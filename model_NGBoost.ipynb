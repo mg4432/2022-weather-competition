{
 "cells": [
  {
   "cell_type": "markdown",
   "metadata": {},
   "source": [
    "# setup"
   ]
  },
  {
   "cell_type": "markdown",
   "metadata": {},
   "source": [
    "## library"
   ]
  },
  {
   "cell_type": "code",
   "execution_count": 130,
   "metadata": {
    "ExecuteTime": {
     "end_time": "2022-08-06T06:41:14.890281Z",
     "start_time": "2022-08-06T06:41:14.876728Z"
    }
   },
   "outputs": [],
   "source": [
    "import numpy as np \n",
    "import pandas as pd \n",
    "import warnings\n",
    "warnings.filterwarnings('ignore')\n",
    "\n",
    "import matplotlib.pyplot as plt \n",
    "plt.rcParams['font.family'] = 'Malgun Gothic'\n",
    "\n",
    "import seaborn as sns \n",
    "\n",
    "from datetime import datetime\n",
    "from datetime import timedelta\n",
    "from pytimekr import pytimekr"
   ]
  },
  {
   "cell_type": "markdown",
   "metadata": {},
   "source": [
    "## load dataset"
   ]
  },
  {
   "cell_type": "code",
   "execution_count": 131,
   "metadata": {
    "ExecuteTime": {
     "end_time": "2022-08-06T06:41:15.192367Z",
     "start_time": "2022-08-06T06:41:14.892277Z"
    }
   },
   "outputs": [
    {
     "data": {
      "text/html": [
       "<div>\n",
       "<style scoped>\n",
       "    .dataframe tbody tr th:only-of-type {\n",
       "        vertical-align: middle;\n",
       "    }\n",
       "\n",
       "    .dataframe tbody tr th {\n",
       "        vertical-align: top;\n",
       "    }\n",
       "\n",
       "    .dataframe thead th {\n",
       "        text-align: right;\n",
       "    }\n",
       "</style>\n",
       "<table border=\"1\" class=\"dataframe\">\n",
       "  <thead>\n",
       "    <tr style=\"text-align: right;\">\n",
       "      <th></th>\n",
       "      <th>yyyymmdd</th>\n",
       "      <th>area</th>\n",
       "      <th>sex</th>\n",
       "      <th>frequency</th>\n",
       "    </tr>\n",
       "  </thead>\n",
       "  <tbody>\n",
       "    <tr>\n",
       "      <th>0</th>\n",
       "      <td>2016-01-01</td>\n",
       "      <td>강원</td>\n",
       "      <td>1</td>\n",
       "      <td>NaN</td>\n",
       "    </tr>\n",
       "    <tr>\n",
       "      <th>1</th>\n",
       "      <td>2016-01-01</td>\n",
       "      <td>경기</td>\n",
       "      <td>1</td>\n",
       "      <td>NaN</td>\n",
       "    </tr>\n",
       "    <tr>\n",
       "      <th>2</th>\n",
       "      <td>2016-01-01</td>\n",
       "      <td>경남</td>\n",
       "      <td>1</td>\n",
       "      <td>NaN</td>\n",
       "    </tr>\n",
       "    <tr>\n",
       "      <th>3</th>\n",
       "      <td>2016-01-01</td>\n",
       "      <td>경북</td>\n",
       "      <td>1</td>\n",
       "      <td>NaN</td>\n",
       "    </tr>\n",
       "    <tr>\n",
       "      <th>4</th>\n",
       "      <td>2016-01-01</td>\n",
       "      <td>광주</td>\n",
       "      <td>1</td>\n",
       "      <td>NaN</td>\n",
       "    </tr>\n",
       "    <tr>\n",
       "      <th>...</th>\n",
       "      <td>...</td>\n",
       "      <td>...</td>\n",
       "      <td>...</td>\n",
       "      <td>...</td>\n",
       "    </tr>\n",
       "    <tr>\n",
       "      <th>12439</th>\n",
       "      <td>2016-12-31</td>\n",
       "      <td>전남</td>\n",
       "      <td>2</td>\n",
       "      <td>NaN</td>\n",
       "    </tr>\n",
       "    <tr>\n",
       "      <th>12440</th>\n",
       "      <td>2016-12-31</td>\n",
       "      <td>전북</td>\n",
       "      <td>2</td>\n",
       "      <td>NaN</td>\n",
       "    </tr>\n",
       "    <tr>\n",
       "      <th>12441</th>\n",
       "      <td>2016-12-31</td>\n",
       "      <td>제주</td>\n",
       "      <td>2</td>\n",
       "      <td>NaN</td>\n",
       "    </tr>\n",
       "    <tr>\n",
       "      <th>12442</th>\n",
       "      <td>2016-12-31</td>\n",
       "      <td>충남</td>\n",
       "      <td>2</td>\n",
       "      <td>NaN</td>\n",
       "    </tr>\n",
       "    <tr>\n",
       "      <th>12443</th>\n",
       "      <td>2016-12-31</td>\n",
       "      <td>충북</td>\n",
       "      <td>2</td>\n",
       "      <td>NaN</td>\n",
       "    </tr>\n",
       "  </tbody>\n",
       "</table>\n",
       "<p>12444 rows × 4 columns</p>\n",
       "</div>"
      ],
      "text/plain": [
       "         yyyymmdd area  sex  frequency\n",
       "0      2016-01-01   강원    1        NaN\n",
       "1      2016-01-01   경기    1        NaN\n",
       "2      2016-01-01   경남    1        NaN\n",
       "3      2016-01-01   경북    1        NaN\n",
       "4      2016-01-01   광주    1        NaN\n",
       "...           ...  ...  ...        ...\n",
       "12439  2016-12-31   전남    2        NaN\n",
       "12440  2016-12-31   전북    2        NaN\n",
       "12441  2016-12-31   제주    2        NaN\n",
       "12442  2016-12-31   충남    2        NaN\n",
       "12443  2016-12-31   충북    2        NaN\n",
       "\n",
       "[12444 rows x 4 columns]"
      ]
     },
     "execution_count": 131,
     "metadata": {},
     "output_type": "execute_result"
    }
   ],
   "source": [
    "train = pd.read_csv('train_predfill.csv')\n",
    "test = pd.read_csv('../dataset/test_final.csv')\n",
    "income = pd.read_csv('../dataset/income.csv')\n",
    "submission = pd.read_csv('submission2.csv', encoding = 'euc-kr')\n",
    "submission"
   ]
  },
  {
   "cell_type": "markdown",
   "metadata": {},
   "source": [
    "## order of submission file"
   ]
  },
  {
   "cell_type": "code",
   "execution_count": 132,
   "metadata": {
    "ExecuteTime": {
     "end_time": "2022-08-06T06:41:15.237660Z",
     "start_time": "2022-08-06T06:41:15.194291Z"
    }
   },
   "outputs": [],
   "source": [
    "# attach to test set ( 2015-12-31 -> 2016-01-01)\n",
    "yesterday = train[train['date'] == '2015-12-31']\n",
    "yesterday.drop('frequency', axis = 1, inplace = True)"
   ]
  },
  {
   "cell_type": "code",
   "execution_count": 133,
   "metadata": {
    "ExecuteTime": {
     "end_time": "2022-08-06T06:41:16.401409Z",
     "start_time": "2022-08-06T06:41:15.239653Z"
    }
   },
   "outputs": [
    {
     "data": {
      "text/html": [
       "<div>\n",
       "<style scoped>\n",
       "    .dataframe tbody tr th:only-of-type {\n",
       "        vertical-align: middle;\n",
       "    }\n",
       "\n",
       "    .dataframe tbody tr th {\n",
       "        vertical-align: top;\n",
       "    }\n",
       "\n",
       "    .dataframe thead th {\n",
       "        text-align: right;\n",
       "    }\n",
       "</style>\n",
       "<table border=\"1\" class=\"dataframe\">\n",
       "  <thead>\n",
       "    <tr style=\"text-align: right;\">\n",
       "      <th></th>\n",
       "      <th>date</th>\n",
       "      <th>area</th>\n",
       "      <th>sex</th>\n",
       "      <th>frequency</th>\n",
       "      <th>ob_avg_tca</th>\n",
       "      <th>ob_ssrate</th>\n",
       "      <th>ob_sum_gsr</th>\n",
       "      <th>ob_avg_pa</th>\n",
       "      <th>ob_max_pa</th>\n",
       "      <th>ob_min_pa</th>\n",
       "      <th>...</th>\n",
       "      <th>ob_avg_ws</th>\n",
       "      <th>ob_max_ws</th>\n",
       "      <th>습도</th>\n",
       "      <th>최고기온</th>\n",
       "      <th>최저기온</th>\n",
       "      <th>ob_O3</th>\n",
       "      <th>ob_pm10</th>\n",
       "      <th>year</th>\n",
       "      <th>65세이상인구</th>\n",
       "      <th>전체인구</th>\n",
       "    </tr>\n",
       "  </thead>\n",
       "  <tbody>\n",
       "    <tr>\n",
       "      <th>0</th>\n",
       "      <td>2012-01-01</td>\n",
       "      <td>강원</td>\n",
       "      <td>1</td>\n",
       "      <td>2.0</td>\n",
       "      <td>6.48</td>\n",
       "      <td>37.945455</td>\n",
       "      <td>7.1325</td>\n",
       "      <td>994.354545</td>\n",
       "      <td>996.381818</td>\n",
       "      <td>991.163636</td>\n",
       "      <td>...</td>\n",
       "      <td>2.063636</td>\n",
       "      <td>5.072727</td>\n",
       "      <td>65.000000</td>\n",
       "      <td>1.500000</td>\n",
       "      <td>-10.90</td>\n",
       "      <td>0.0191</td>\n",
       "      <td>63.822062</td>\n",
       "      <td>2012</td>\n",
       "      <td>241694</td>\n",
       "      <td>1538630</td>\n",
       "    </tr>\n",
       "    <tr>\n",
       "      <th>1</th>\n",
       "      <td>2012-01-02</td>\n",
       "      <td>강원</td>\n",
       "      <td>1</td>\n",
       "      <td>0.0</td>\n",
       "      <td>3.36</td>\n",
       "      <td>63.400000</td>\n",
       "      <td>8.2950</td>\n",
       "      <td>996.618182</td>\n",
       "      <td>998.872727</td>\n",
       "      <td>994.845454</td>\n",
       "      <td>...</td>\n",
       "      <td>1.509091</td>\n",
       "      <td>3.500000</td>\n",
       "      <td>62.352941</td>\n",
       "      <td>-0.950000</td>\n",
       "      <td>-12.40</td>\n",
       "      <td>0.0172</td>\n",
       "      <td>68.328993</td>\n",
       "      <td>2012</td>\n",
       "      <td>241694</td>\n",
       "      <td>1538630</td>\n",
       "    </tr>\n",
       "    <tr>\n",
       "      <th>2</th>\n",
       "      <td>2012-01-03</td>\n",
       "      <td>강원</td>\n",
       "      <td>1</td>\n",
       "      <td>1.0</td>\n",
       "      <td>6.00</td>\n",
       "      <td>53.200000</td>\n",
       "      <td>7.8750</td>\n",
       "      <td>991.745455</td>\n",
       "      <td>995.218182</td>\n",
       "      <td>988.663636</td>\n",
       "      <td>...</td>\n",
       "      <td>1.981818</td>\n",
       "      <td>5.227273</td>\n",
       "      <td>60.294118</td>\n",
       "      <td>-1.400000</td>\n",
       "      <td>-10.40</td>\n",
       "      <td>0.0182</td>\n",
       "      <td>77.407118</td>\n",
       "      <td>2012</td>\n",
       "      <td>241694</td>\n",
       "      <td>1538630</td>\n",
       "    </tr>\n",
       "    <tr>\n",
       "      <th>3</th>\n",
       "      <td>2012-01-04</td>\n",
       "      <td>강원</td>\n",
       "      <td>1</td>\n",
       "      <td>2.0</td>\n",
       "      <td>2.28</td>\n",
       "      <td>75.454545</td>\n",
       "      <td>9.0775</td>\n",
       "      <td>994.490909</td>\n",
       "      <td>997.481818</td>\n",
       "      <td>990.054546</td>\n",
       "      <td>...</td>\n",
       "      <td>2.527273</td>\n",
       "      <td>5.172727</td>\n",
       "      <td>61.764706</td>\n",
       "      <td>0.550000</td>\n",
       "      <td>-10.90</td>\n",
       "      <td>0.0247</td>\n",
       "      <td>64.408104</td>\n",
       "      <td>2012</td>\n",
       "      <td>241694</td>\n",
       "      <td>1538630</td>\n",
       "    </tr>\n",
       "    <tr>\n",
       "      <th>4</th>\n",
       "      <td>2012-01-05</td>\n",
       "      <td>강원</td>\n",
       "      <td>1</td>\n",
       "      <td>2.0</td>\n",
       "      <td>0.10</td>\n",
       "      <td>86.372727</td>\n",
       "      <td>10.9900</td>\n",
       "      <td>998.945454</td>\n",
       "      <td>1000.500000</td>\n",
       "      <td>997.127273</td>\n",
       "      <td>...</td>\n",
       "      <td>1.800000</td>\n",
       "      <td>4.372727</td>\n",
       "      <td>61.764706</td>\n",
       "      <td>1.500000</td>\n",
       "      <td>-11.40</td>\n",
       "      <td>0.0221</td>\n",
       "      <td>45.710938</td>\n",
       "      <td>2012</td>\n",
       "      <td>241694</td>\n",
       "      <td>1538630</td>\n",
       "    </tr>\n",
       "    <tr>\n",
       "      <th>...</th>\n",
       "      <td>...</td>\n",
       "      <td>...</td>\n",
       "      <td>...</td>\n",
       "      <td>...</td>\n",
       "      <td>...</td>\n",
       "      <td>...</td>\n",
       "      <td>...</td>\n",
       "      <td>...</td>\n",
       "      <td>...</td>\n",
       "      <td>...</td>\n",
       "      <td>...</td>\n",
       "      <td>...</td>\n",
       "      <td>...</td>\n",
       "      <td>...</td>\n",
       "      <td>...</td>\n",
       "      <td>...</td>\n",
       "      <td>...</td>\n",
       "      <td>...</td>\n",
       "      <td>...</td>\n",
       "      <td>...</td>\n",
       "      <td>...</td>\n",
       "    </tr>\n",
       "    <tr>\n",
       "      <th>49635</th>\n",
       "      <td>2015-12-26</td>\n",
       "      <td>충북</td>\n",
       "      <td>2</td>\n",
       "      <td>0.0</td>\n",
       "      <td>NaN</td>\n",
       "      <td>57.000000</td>\n",
       "      <td>7.3300</td>\n",
       "      <td>995.700000</td>\n",
       "      <td>999.550000</td>\n",
       "      <td>993.450000</td>\n",
       "      <td>...</td>\n",
       "      <td>1.875000</td>\n",
       "      <td>5.575000</td>\n",
       "      <td>54.904762</td>\n",
       "      <td>2.033333</td>\n",
       "      <td>-5.75</td>\n",
       "      <td>0.0168</td>\n",
       "      <td>71.003472</td>\n",
       "      <td>2015</td>\n",
       "      <td>234813</td>\n",
       "      <td>1583952</td>\n",
       "    </tr>\n",
       "    <tr>\n",
       "      <th>49636</th>\n",
       "      <td>2015-12-27</td>\n",
       "      <td>충북</td>\n",
       "      <td>2</td>\n",
       "      <td>2.0</td>\n",
       "      <td>NaN</td>\n",
       "      <td>84.950000</td>\n",
       "      <td>11.3100</td>\n",
       "      <td>1004.100000</td>\n",
       "      <td>1007.150000</td>\n",
       "      <td>999.450000</td>\n",
       "      <td>...</td>\n",
       "      <td>2.175000</td>\n",
       "      <td>4.375000</td>\n",
       "      <td>60.476190</td>\n",
       "      <td>3.233333</td>\n",
       "      <td>-5.15</td>\n",
       "      <td>0.0187</td>\n",
       "      <td>36.586806</td>\n",
       "      <td>2015</td>\n",
       "      <td>234813</td>\n",
       "      <td>1583952</td>\n",
       "    </tr>\n",
       "    <tr>\n",
       "      <th>49637</th>\n",
       "      <td>2015-12-28</td>\n",
       "      <td>충북</td>\n",
       "      <td>2</td>\n",
       "      <td>2.0</td>\n",
       "      <td>NaN</td>\n",
       "      <td>75.750000</td>\n",
       "      <td>9.8800</td>\n",
       "      <td>1007.450000</td>\n",
       "      <td>1008.850000</td>\n",
       "      <td>1006.300000</td>\n",
       "      <td>...</td>\n",
       "      <td>2.525000</td>\n",
       "      <td>6.400000</td>\n",
       "      <td>62.190476</td>\n",
       "      <td>4.533333</td>\n",
       "      <td>-3.10</td>\n",
       "      <td>0.0119</td>\n",
       "      <td>23.097222</td>\n",
       "      <td>2015</td>\n",
       "      <td>234813</td>\n",
       "      <td>1583952</td>\n",
       "    </tr>\n",
       "    <tr>\n",
       "      <th>49638</th>\n",
       "      <td>2015-12-29</td>\n",
       "      <td>충북</td>\n",
       "      <td>2</td>\n",
       "      <td>1.0</td>\n",
       "      <td>NaN</td>\n",
       "      <td>79.775000</td>\n",
       "      <td>9.3200</td>\n",
       "      <td>1008.300000</td>\n",
       "      <td>1010.025000</td>\n",
       "      <td>1006.875000</td>\n",
       "      <td>...</td>\n",
       "      <td>1.525000</td>\n",
       "      <td>4.275000</td>\n",
       "      <td>62.857143</td>\n",
       "      <td>5.366667</td>\n",
       "      <td>-2.55</td>\n",
       "      <td>0.0074</td>\n",
       "      <td>29.406250</td>\n",
       "      <td>2015</td>\n",
       "      <td>234813</td>\n",
       "      <td>1583952</td>\n",
       "    </tr>\n",
       "    <tr>\n",
       "      <th>49639</th>\n",
       "      <td>2015-12-30</td>\n",
       "      <td>충북</td>\n",
       "      <td>2</td>\n",
       "      <td>0.0</td>\n",
       "      <td>NaN</td>\n",
       "      <td>80.175000</td>\n",
       "      <td>10.8100</td>\n",
       "      <td>1004.775000</td>\n",
       "      <td>1007.750000</td>\n",
       "      <td>1002.325000</td>\n",
       "      <td>...</td>\n",
       "      <td>0.775000</td>\n",
       "      <td>3.100000</td>\n",
       "      <td>65.761905</td>\n",
       "      <td>7.266667</td>\n",
       "      <td>-2.15</td>\n",
       "      <td>0.0073</td>\n",
       "      <td>37.194444</td>\n",
       "      <td>2015</td>\n",
       "      <td>234813</td>\n",
       "      <td>1583952</td>\n",
       "    </tr>\n",
       "  </tbody>\n",
       "</table>\n",
       "<p>49640 rows × 28 columns</p>\n",
       "</div>"
      ],
      "text/plain": [
       "             date area  sex  frequency  ob_avg_tca  ob_ssrate  ob_sum_gsr  \\\n",
       "0      2012-01-01   강원    1        2.0        6.48  37.945455      7.1325   \n",
       "1      2012-01-02   강원    1        0.0        3.36  63.400000      8.2950   \n",
       "2      2012-01-03   강원    1        1.0        6.00  53.200000      7.8750   \n",
       "3      2012-01-04   강원    1        2.0        2.28  75.454545      9.0775   \n",
       "4      2012-01-05   강원    1        2.0        0.10  86.372727     10.9900   \n",
       "...           ...  ...  ...        ...         ...        ...         ...   \n",
       "49635  2015-12-26   충북    2        0.0         NaN  57.000000      7.3300   \n",
       "49636  2015-12-27   충북    2        2.0         NaN  84.950000     11.3100   \n",
       "49637  2015-12-28   충북    2        2.0         NaN  75.750000      9.8800   \n",
       "49638  2015-12-29   충북    2        1.0         NaN  79.775000      9.3200   \n",
       "49639  2015-12-30   충북    2        0.0         NaN  80.175000     10.8100   \n",
       "\n",
       "         ob_avg_pa    ob_max_pa    ob_min_pa  ...  ob_avg_ws  ob_max_ws  \\\n",
       "0       994.354545   996.381818   991.163636  ...   2.063636   5.072727   \n",
       "1       996.618182   998.872727   994.845454  ...   1.509091   3.500000   \n",
       "2       991.745455   995.218182   988.663636  ...   1.981818   5.227273   \n",
       "3       994.490909   997.481818   990.054546  ...   2.527273   5.172727   \n",
       "4       998.945454  1000.500000   997.127273  ...   1.800000   4.372727   \n",
       "...            ...          ...          ...  ...        ...        ...   \n",
       "49635   995.700000   999.550000   993.450000  ...   1.875000   5.575000   \n",
       "49636  1004.100000  1007.150000   999.450000  ...   2.175000   4.375000   \n",
       "49637  1007.450000  1008.850000  1006.300000  ...   2.525000   6.400000   \n",
       "49638  1008.300000  1010.025000  1006.875000  ...   1.525000   4.275000   \n",
       "49639  1004.775000  1007.750000  1002.325000  ...   0.775000   3.100000   \n",
       "\n",
       "              습도      최고기온   최저기온   ob_O3    ob_pm10  year  65세이상인구     전체인구  \n",
       "0      65.000000  1.500000 -10.90  0.0191  63.822062  2012   241694  1538630  \n",
       "1      62.352941 -0.950000 -12.40  0.0172  68.328993  2012   241694  1538630  \n",
       "2      60.294118 -1.400000 -10.40  0.0182  77.407118  2012   241694  1538630  \n",
       "3      61.764706  0.550000 -10.90  0.0247  64.408104  2012   241694  1538630  \n",
       "4      61.764706  1.500000 -11.40  0.0221  45.710938  2012   241694  1538630  \n",
       "...          ...       ...    ...     ...        ...   ...      ...      ...  \n",
       "49635  54.904762  2.033333  -5.75  0.0168  71.003472  2015   234813  1583952  \n",
       "49636  60.476190  3.233333  -5.15  0.0187  36.586806  2015   234813  1583952  \n",
       "49637  62.190476  4.533333  -3.10  0.0119  23.097222  2015   234813  1583952  \n",
       "49638  62.857143  5.366667  -2.55  0.0074  29.406250  2015   234813  1583952  \n",
       "49639  65.761905  7.266667  -2.15  0.0073  37.194444  2015   234813  1583952  \n",
       "\n",
       "[49640 rows x 28 columns]"
      ]
     },
     "execution_count": 133,
     "metadata": {},
     "output_type": "execute_result"
    }
   ],
   "source": [
    "train = train.sort_values(by = ['area', 'sex'])\n",
    "area_lst = train['area'].unique()\n",
    "sex_lst = train['sex'].unique()\n",
    "\n",
    "stack_df = pd.DataFrame()\n",
    "for area in area_lst : \n",
    "    for sex in sex_lst : \n",
    "        tmp_df = train[(train['area'] == area) & (train['sex'] == sex)]\n",
    "        tmp_df['frequency'] = tmp_df['frequency'].shift(-1)\n",
    "        tmp_df = tmp_df[~tmp_df['frequency'].isnull()]\n",
    "        \n",
    "        stack_df = pd.concat([stack_df, tmp_df])\n",
    "train = stack_df\n",
    "train = train.reset_index(drop = True)\n",
    "train"
   ]
  },
  {
   "cell_type": "code",
   "execution_count": 134,
   "metadata": {
    "ExecuteTime": {
     "end_time": "2022-08-06T06:41:16.431477Z",
     "start_time": "2022-08-06T06:41:16.403337Z"
    },
    "scrolled": false
   },
   "outputs": [
    {
     "data": {
      "text/html": [
       "<div>\n",
       "<style scoped>\n",
       "    .dataframe tbody tr th:only-of-type {\n",
       "        vertical-align: middle;\n",
       "    }\n",
       "\n",
       "    .dataframe tbody tr th {\n",
       "        vertical-align: top;\n",
       "    }\n",
       "\n",
       "    .dataframe thead th {\n",
       "        text-align: right;\n",
       "    }\n",
       "</style>\n",
       "<table border=\"1\" class=\"dataframe\">\n",
       "  <thead>\n",
       "    <tr style=\"text-align: right;\">\n",
       "      <th></th>\n",
       "      <th>date</th>\n",
       "      <th>area</th>\n",
       "      <th>sex</th>\n",
       "      <th>ob_avg_tca</th>\n",
       "      <th>ob_ssrate</th>\n",
       "      <th>ob_sum_gsr</th>\n",
       "      <th>ob_avg_pa</th>\n",
       "      <th>ob_max_pa</th>\n",
       "      <th>ob_min_pa</th>\n",
       "      <th>ob_avg_rhm</th>\n",
       "      <th>...</th>\n",
       "      <th>ob_avg_ws</th>\n",
       "      <th>ob_max_ws</th>\n",
       "      <th>습도</th>\n",
       "      <th>최고기온</th>\n",
       "      <th>최저기온</th>\n",
       "      <th>ob_O3</th>\n",
       "      <th>ob_pm10</th>\n",
       "      <th>year</th>\n",
       "      <th>65세이상인구</th>\n",
       "      <th>전체인구</th>\n",
       "    </tr>\n",
       "  </thead>\n",
       "  <tbody>\n",
       "    <tr>\n",
       "      <th>0</th>\n",
       "      <td>2015-12-31</td>\n",
       "      <td>강원</td>\n",
       "      <td>1</td>\n",
       "      <td>5.5</td>\n",
       "      <td>35.490909</td>\n",
       "      <td>6.1475</td>\n",
       "      <td>1001.181818</td>\n",
       "      <td>1003.881818</td>\n",
       "      <td>997.854545</td>\n",
       "      <td>77.036364</td>\n",
       "      <td>...</td>\n",
       "      <td>1.518182</td>\n",
       "      <td>4.263636</td>\n",
       "      <td>76.904762</td>\n",
       "      <td>6.333333</td>\n",
       "      <td>-1.0</td>\n",
       "      <td>0.0172</td>\n",
       "      <td>38.152086</td>\n",
       "      <td>2015</td>\n",
       "      <td>261671</td>\n",
       "      <td>1549507</td>\n",
       "    </tr>\n",
       "    <tr>\n",
       "      <th>1</th>\n",
       "      <td>2015-12-31</td>\n",
       "      <td>강원</td>\n",
       "      <td>2</td>\n",
       "      <td>5.5</td>\n",
       "      <td>35.490909</td>\n",
       "      <td>6.1475</td>\n",
       "      <td>1001.181818</td>\n",
       "      <td>1003.881818</td>\n",
       "      <td>997.854545</td>\n",
       "      <td>77.036364</td>\n",
       "      <td>...</td>\n",
       "      <td>1.518182</td>\n",
       "      <td>4.263636</td>\n",
       "      <td>76.904762</td>\n",
       "      <td>6.333333</td>\n",
       "      <td>-1.0</td>\n",
       "      <td>0.0172</td>\n",
       "      <td>38.152086</td>\n",
       "      <td>2015</td>\n",
       "      <td>261671</td>\n",
       "      <td>1549507</td>\n",
       "    </tr>\n",
       "    <tr>\n",
       "      <th>2</th>\n",
       "      <td>2015-12-31</td>\n",
       "      <td>경기</td>\n",
       "      <td>1</td>\n",
       "      <td>4.4</td>\n",
       "      <td>43.120000</td>\n",
       "      <td>5.5200</td>\n",
       "      <td>1023.975000</td>\n",
       "      <td>1026.220000</td>\n",
       "      <td>1019.440000</td>\n",
       "      <td>81.020000</td>\n",
       "      <td>...</td>\n",
       "      <td>1.060000</td>\n",
       "      <td>3.020000</td>\n",
       "      <td>79.285714</td>\n",
       "      <td>7.366667</td>\n",
       "      <td>2.0</td>\n",
       "      <td>0.0084</td>\n",
       "      <td>49.192029</td>\n",
       "      <td>2015</td>\n",
       "      <td>1318882</td>\n",
       "      <td>12522606</td>\n",
       "    </tr>\n",
       "    <tr>\n",
       "      <th>3</th>\n",
       "      <td>2015-12-31</td>\n",
       "      <td>경기</td>\n",
       "      <td>2</td>\n",
       "      <td>4.4</td>\n",
       "      <td>43.120000</td>\n",
       "      <td>5.5200</td>\n",
       "      <td>1023.975000</td>\n",
       "      <td>1026.220000</td>\n",
       "      <td>1019.440000</td>\n",
       "      <td>81.020000</td>\n",
       "      <td>...</td>\n",
       "      <td>1.060000</td>\n",
       "      <td>3.020000</td>\n",
       "      <td>79.285714</td>\n",
       "      <td>7.366667</td>\n",
       "      <td>2.0</td>\n",
       "      <td>0.0084</td>\n",
       "      <td>49.192029</td>\n",
       "      <td>2015</td>\n",
       "      <td>1318882</td>\n",
       "      <td>12522606</td>\n",
       "    </tr>\n",
       "    <tr>\n",
       "      <th>4</th>\n",
       "      <td>2015-12-31</td>\n",
       "      <td>경남</td>\n",
       "      <td>1</td>\n",
       "      <td>2.1</td>\n",
       "      <td>78.336364</td>\n",
       "      <td>9.3400</td>\n",
       "      <td>1022.245455</td>\n",
       "      <td>1025.772727</td>\n",
       "      <td>1019.245455</td>\n",
       "      <td>61.618182</td>\n",
       "      <td>...</td>\n",
       "      <td>1.472727</td>\n",
       "      <td>4.918182</td>\n",
       "      <td>53.619048</td>\n",
       "      <td>12.233333</td>\n",
       "      <td>1.7</td>\n",
       "      <td>0.0173</td>\n",
       "      <td>42.684783</td>\n",
       "      <td>2015</td>\n",
       "      <td>464019</td>\n",
       "      <td>3364702</td>\n",
       "    </tr>\n",
       "    <tr>\n",
       "      <th>...</th>\n",
       "      <td>...</td>\n",
       "      <td>...</td>\n",
       "      <td>...</td>\n",
       "      <td>...</td>\n",
       "      <td>...</td>\n",
       "      <td>...</td>\n",
       "      <td>...</td>\n",
       "      <td>...</td>\n",
       "      <td>...</td>\n",
       "      <td>...</td>\n",
       "      <td>...</td>\n",
       "      <td>...</td>\n",
       "      <td>...</td>\n",
       "      <td>...</td>\n",
       "      <td>...</td>\n",
       "      <td>...</td>\n",
       "      <td>...</td>\n",
       "      <td>...</td>\n",
       "      <td>...</td>\n",
       "      <td>...</td>\n",
       "      <td>...</td>\n",
       "    </tr>\n",
       "    <tr>\n",
       "      <th>12473</th>\n",
       "      <td>2016-02-29</td>\n",
       "      <td>전북</td>\n",
       "      <td>2</td>\n",
       "      <td>5.3</td>\n",
       "      <td>31.971429</td>\n",
       "      <td>12.1100</td>\n",
       "      <td>1010.185714</td>\n",
       "      <td>1013.314286</td>\n",
       "      <td>1007.657143</td>\n",
       "      <td>65.314286</td>\n",
       "      <td>...</td>\n",
       "      <td>3.657143</td>\n",
       "      <td>7.114286</td>\n",
       "      <td>64.375000</td>\n",
       "      <td>10.666667</td>\n",
       "      <td>0.0</td>\n",
       "      <td>0.0270</td>\n",
       "      <td>54.366876</td>\n",
       "      <td>2016</td>\n",
       "      <td>341203</td>\n",
       "      <td>1864791</td>\n",
       "    </tr>\n",
       "    <tr>\n",
       "      <th>12474</th>\n",
       "      <td>2016-02-29</td>\n",
       "      <td>대전</td>\n",
       "      <td>2</td>\n",
       "      <td>5.9</td>\n",
       "      <td>67.500000</td>\n",
       "      <td>14.9200</td>\n",
       "      <td>1017.600000</td>\n",
       "      <td>1021.000000</td>\n",
       "      <td>1015.100000</td>\n",
       "      <td>66.600000</td>\n",
       "      <td>...</td>\n",
       "      <td>2.900000</td>\n",
       "      <td>6.200000</td>\n",
       "      <td>61.000000</td>\n",
       "      <td>9.833333</td>\n",
       "      <td>-0.8</td>\n",
       "      <td>0.0090</td>\n",
       "      <td>NaN</td>\n",
       "      <td>2016</td>\n",
       "      <td>171568</td>\n",
       "      <td>1514370</td>\n",
       "    </tr>\n",
       "    <tr>\n",
       "      <th>12475</th>\n",
       "      <td>2016-02-29</td>\n",
       "      <td>울산</td>\n",
       "      <td>2</td>\n",
       "      <td>1.6</td>\n",
       "      <td>85.100000</td>\n",
       "      <td>NaN</td>\n",
       "      <td>1018.600000</td>\n",
       "      <td>1023.300000</td>\n",
       "      <td>1014.900000</td>\n",
       "      <td>38.800000</td>\n",
       "      <td>...</td>\n",
       "      <td>4.300000</td>\n",
       "      <td>7.100000</td>\n",
       "      <td>45.000000</td>\n",
       "      <td>12.666667</td>\n",
       "      <td>0.0</td>\n",
       "      <td>0.0341</td>\n",
       "      <td>57.751852</td>\n",
       "      <td>2016</td>\n",
       "      <td>108768</td>\n",
       "      <td>1172304</td>\n",
       "    </tr>\n",
       "    <tr>\n",
       "      <th>12476</th>\n",
       "      <td>2016-02-29</td>\n",
       "      <td>부산</td>\n",
       "      <td>2</td>\n",
       "      <td>2.6</td>\n",
       "      <td>83.300000</td>\n",
       "      <td>13.4700</td>\n",
       "      <td>1014.400000</td>\n",
       "      <td>1018.700000</td>\n",
       "      <td>1010.100000</td>\n",
       "      <td>41.000000</td>\n",
       "      <td>...</td>\n",
       "      <td>4.500000</td>\n",
       "      <td>10.700000</td>\n",
       "      <td>34.375000</td>\n",
       "      <td>11.333333</td>\n",
       "      <td>2.0</td>\n",
       "      <td>0.0332</td>\n",
       "      <td>57.751852</td>\n",
       "      <td>2016</td>\n",
       "      <td>536064</td>\n",
       "      <td>3498529</td>\n",
       "    </tr>\n",
       "    <tr>\n",
       "      <th>12477</th>\n",
       "      <td>2016-02-29</td>\n",
       "      <td>제주</td>\n",
       "      <td>2</td>\n",
       "      <td>8.3</td>\n",
       "      <td>21.900000</td>\n",
       "      <td>9.5800</td>\n",
       "      <td>1025.600000</td>\n",
       "      <td>1028.500000</td>\n",
       "      <td>1022.900000</td>\n",
       "      <td>55.900000</td>\n",
       "      <td>...</td>\n",
       "      <td>7.700000</td>\n",
       "      <td>11.700000</td>\n",
       "      <td>54.375000</td>\n",
       "      <td>11.866667</td>\n",
       "      <td>3.7</td>\n",
       "      <td>0.0449</td>\n",
       "      <td>50.000000</td>\n",
       "      <td>2016</td>\n",
       "      <td>89189</td>\n",
       "      <td>641597</td>\n",
       "    </tr>\n",
       "  </tbody>\n",
       "</table>\n",
       "<p>12478 rows × 27 columns</p>\n",
       "</div>"
      ],
      "text/plain": [
       "             date area  sex  ob_avg_tca  ob_ssrate  ob_sum_gsr    ob_avg_pa  \\\n",
       "0      2015-12-31   강원    1         5.5  35.490909      6.1475  1001.181818   \n",
       "1      2015-12-31   강원    2         5.5  35.490909      6.1475  1001.181818   \n",
       "2      2015-12-31   경기    1         4.4  43.120000      5.5200  1023.975000   \n",
       "3      2015-12-31   경기    2         4.4  43.120000      5.5200  1023.975000   \n",
       "4      2015-12-31   경남    1         2.1  78.336364      9.3400  1022.245455   \n",
       "...           ...  ...  ...         ...        ...         ...          ...   \n",
       "12473  2016-02-29   전북    2         5.3  31.971429     12.1100  1010.185714   \n",
       "12474  2016-02-29   대전    2         5.9  67.500000     14.9200  1017.600000   \n",
       "12475  2016-02-29   울산    2         1.6  85.100000         NaN  1018.600000   \n",
       "12476  2016-02-29   부산    2         2.6  83.300000     13.4700  1014.400000   \n",
       "12477  2016-02-29   제주    2         8.3  21.900000      9.5800  1025.600000   \n",
       "\n",
       "         ob_max_pa    ob_min_pa  ob_avg_rhm  ...  ob_avg_ws  ob_max_ws  \\\n",
       "0      1003.881818   997.854545   77.036364  ...   1.518182   4.263636   \n",
       "1      1003.881818   997.854545   77.036364  ...   1.518182   4.263636   \n",
       "2      1026.220000  1019.440000   81.020000  ...   1.060000   3.020000   \n",
       "3      1026.220000  1019.440000   81.020000  ...   1.060000   3.020000   \n",
       "4      1025.772727  1019.245455   61.618182  ...   1.472727   4.918182   \n",
       "...            ...          ...         ...  ...        ...        ...   \n",
       "12473  1013.314286  1007.657143   65.314286  ...   3.657143   7.114286   \n",
       "12474  1021.000000  1015.100000   66.600000  ...   2.900000   6.200000   \n",
       "12475  1023.300000  1014.900000   38.800000  ...   4.300000   7.100000   \n",
       "12476  1018.700000  1010.100000   41.000000  ...   4.500000  10.700000   \n",
       "12477  1028.500000  1022.900000   55.900000  ...   7.700000  11.700000   \n",
       "\n",
       "              습도       최고기온  최저기온   ob_O3    ob_pm10  year  65세이상인구      전체인구  \n",
       "0      76.904762   6.333333  -1.0  0.0172  38.152086  2015   261671   1549507  \n",
       "1      76.904762   6.333333  -1.0  0.0172  38.152086  2015   261671   1549507  \n",
       "2      79.285714   7.366667   2.0  0.0084  49.192029  2015  1318882  12522606  \n",
       "3      79.285714   7.366667   2.0  0.0084  49.192029  2015  1318882  12522606  \n",
       "4      53.619048  12.233333   1.7  0.0173  42.684783  2015   464019   3364702  \n",
       "...          ...        ...   ...     ...        ...   ...      ...       ...  \n",
       "12473  64.375000  10.666667   0.0  0.0270  54.366876  2016   341203   1864791  \n",
       "12474  61.000000   9.833333  -0.8  0.0090        NaN  2016   171568   1514370  \n",
       "12475  45.000000  12.666667   0.0  0.0341  57.751852  2016   108768   1172304  \n",
       "12476  34.375000  11.333333   2.0  0.0332  57.751852  2016   536064   3498529  \n",
       "12477  54.375000  11.866667   3.7  0.0449  50.000000  2016    89189    641597  \n",
       "\n",
       "[12478 rows x 27 columns]"
      ]
     },
     "execution_count": 134,
     "metadata": {},
     "output_type": "execute_result"
    }
   ],
   "source": [
    "# attach 2015-12-31\n",
    "test = pd.concat([yesterday, test], ignore_index = True)\n",
    "test"
   ]
  },
  {
   "cell_type": "code",
   "execution_count": 135,
   "metadata": {
    "ExecuteTime": {
     "end_time": "2022-08-06T06:41:16.597805Z",
     "start_time": "2022-08-06T06:41:16.435151Z"
    },
    "scrolled": true
   },
   "outputs": [
    {
     "data": {
      "text/plain": [
       "['2012-01-01', '2012-01-24', '2012-03-01', '2012-05-05', '2012-08-15']"
      ]
     },
     "execution_count": 135,
     "metadata": {},
     "output_type": "execute_result"
    }
   ],
   "source": [
    "# holidays 목록\n",
    "holiday_lst = []\n",
    "for year in [2012, 2013, 2014, 2015, 2016] :\n",
    "    for i in range(len(pytimekr.holidays(year))-1) : \n",
    "        hol_lst = np.sort(pytimekr.holidays(year))\n",
    "        if (hol_lst[i+1] - hol_lst[i]).days > 1 : \n",
    "            holiday_lst.append(hol_lst[i])\n",
    "holiday_lst = [datetime.strftime(s, '%Y-%m-%d') for s in holiday_lst]\n",
    "\n",
    "# holidays 각각의 일별 평균 frequency과 전체 frequency 평균 비교\n",
    "avg_hol_freq = train['frequency'].mean()\n",
    "\n",
    "for hol in holiday_lst : \n",
    "    freq = train[train['date'] == hol]['frequency'].mean()\n",
    "    if freq < avg_hol_freq * 1.1: \n",
    "        holiday_lst.remove(hol)\n",
    "holiday_lst = holiday_lst+['2016-01-01', '2016-02-10', '2016-05-05', '2016-09-16']\n",
    "holiday_lst[:5]    "
   ]
  },
  {
   "cell_type": "code",
   "execution_count": 136,
   "metadata": {
    "ExecuteTime": {
     "end_time": "2022-08-06T06:41:17.642095Z",
     "start_time": "2022-08-06T06:41:16.600502Z"
    }
   },
   "outputs": [],
   "source": [
    "all_data = pd.concat([train, test])\n",
    "all_data = pd.merge(all_data, income, left_on = ['area', 'year'],\n",
    "                    right_on = ['area', 'year'], how = 'left')\n",
    "\n",
    "all_data['year'] = [np.int(s[0:4]) for s in all_data['date']]\n",
    "all_data['month'] = [np.int(s[5:7]) for s in all_data['date']]\n",
    "all_data['day'] = [np.int(s[8:10]) for s in all_data['date']]\n",
    "all_data['sex'] -= 1\n",
    "\n",
    "\n",
    "weekday_lst = ['Mon', 'Tue', 'Wed', 'Thu', 'Fri', 'Sat', 'Sun']\n",
    "all_data['weekday'] = [datetime.strptime(date, '%Y-%m-%d').weekday() for date in all_data['date']]\n",
    "all_data['weekend'] = [1 if weekday in [4, 5] else 0 for weekday in all_data['weekday']]\n",
    "\n",
    "# 일교차\n",
    "all_data['일교차_d'] = (all_data['ob_max_ta'] -  all_data['ob_min_ta']) / \\\n",
    "(1+np.exp(all_data['ob_min_ta']/30)) \n",
    "all_data['일교차_d+1'] = (all_data['최고기온'] -  all_data['최저기온'])  / \\\n",
    "(1+np.exp(all_data['최저기온']/30)) \n",
    "\n",
    "# 매월 마지막 날\n",
    "last_day_lst = ['01-31', #'02-28', '02-29',\n",
    "                '03-31', '04-30', '05-31', '06-30',\n",
    "                '07-31', '08-31', '09-30', '10-31', '11-30', '12-31']\n",
    "all_data['last_day'] = [1 if str(s)[5:11] in last_day_lst else 0 for s in all_data['date']]\n",
    "\n",
    "# 공휴일\n",
    "all_data['holiday'] =  [1 if s in holiday_lst else 0 for s in all_data['date']]\n",
    "\n",
    "# area grouping \n",
    "group1 = ['서울', '인천', '세종', '경기', '울산']\n",
    "group2 = ['대전', '제주', '대구', '광주', '부산']\n",
    "group3 = ['충남',' 경남', '충북',]\n",
    "group4 = [ '강원', '전북', '경북', '전남']\n",
    "all_data['area_group'] = [0 if s in group1 else 1 if s in group2 else 2 if s in group3 else 3 for s in all_data['area']]\n",
    "all_data['area_group'] = all_data['area_group']\n",
    "\n",
    "# 강수량 NA 처리\n",
    "all_data['ob_sum_rn'] = all_data['ob_sum_rn'].fillna(0)\n",
    "\n",
    "# submission 순서에 맞게 정렬\n",
    "area_sort = submission[['area']].drop_duplicates()\n",
    "area_sort['rank'] = np.arange(len(area_sort))\n",
    "area_sort = area_sort.set_index('area')\n",
    "area_sort = area_sort['rank'].to_dict()\n",
    "all_data['area_sort'] = [area_sort[s] for s in all_data['area']]\n",
    "all_data = all_data.sort_values(by = ['area_sort', 'sex', 'date' ])\n",
    "all_data.drop('area_sort', axis = 1, inplace = True)\n",
    "\n",
    "# 체감 온도 \n",
    "all_data['체감온도_d'] = 13.12 + 0.6215 * (all_data['ob_min_ta']) - 11.37 * \\\n",
    "(all_data['ob_max_ws'] ** 0.16) + 0.3965 * (all_data['ob_max_ws'] ** 0.16) *(all_data['ob_min_ta']) \n",
    "all_data['체감온도_d+1'] = 13.12 + 0.6215 * (all_data['최저기온']) - 11.37 * \\\n",
    "(all_data['ob_max_ws'] ** 0.16) + 0.3965 * (all_data['ob_max_ws'] ** 0.16) *(all_data['최저기온']) \n",
    "\n",
    "# 일평균기압만 사용\n",
    "all_data.drop(['ob_min_pa', 'ob_sum_rn_dur'], axis = 1, inplace = True)"
   ]
  },
  {
   "cell_type": "code",
   "execution_count": 137,
   "metadata": {
    "ExecuteTime": {
     "end_time": "2022-08-06T06:41:22.402129Z",
     "start_time": "2022-08-06T06:41:17.644980Z"
    }
   },
   "outputs": [
    {
     "data": {
      "text/html": [
       "<div>\n",
       "<style scoped>\n",
       "    .dataframe tbody tr th:only-of-type {\n",
       "        vertical-align: middle;\n",
       "    }\n",
       "\n",
       "    .dataframe tbody tr th {\n",
       "        vertical-align: top;\n",
       "    }\n",
       "\n",
       "    .dataframe thead th {\n",
       "        text-align: right;\n",
       "    }\n",
       "</style>\n",
       "<table border=\"1\" class=\"dataframe\">\n",
       "  <thead>\n",
       "    <tr style=\"text-align: right;\">\n",
       "      <th></th>\n",
       "      <th>date</th>\n",
       "      <th>area</th>\n",
       "      <th>sex</th>\n",
       "      <th>frequency</th>\n",
       "      <th>ob_avg_tca</th>\n",
       "      <th>ob_ssrate</th>\n",
       "      <th>ob_sum_gsr</th>\n",
       "      <th>ob_avg_pa</th>\n",
       "      <th>ob_max_pa</th>\n",
       "      <th>ob_avg_rhm</th>\n",
       "      <th>...</th>\n",
       "      <th>holiday</th>\n",
       "      <th>area_group</th>\n",
       "      <th>체감온도_d</th>\n",
       "      <th>체감온도_d+1</th>\n",
       "      <th>ob_O3_d-1</th>\n",
       "      <th>ob_O3_d-2</th>\n",
       "      <th>ob_O3_d-3</th>\n",
       "      <th>ob_pm10_d-1</th>\n",
       "      <th>ob_pm10_d-2</th>\n",
       "      <th>ob_pm10_d-3</th>\n",
       "    </tr>\n",
       "  </thead>\n",
       "  <tbody>\n",
       "    <tr>\n",
       "      <th>0</th>\n",
       "      <td>2012-01-01</td>\n",
       "      <td>강원</td>\n",
       "      <td>0</td>\n",
       "      <td>2.0</td>\n",
       "      <td>6.48</td>\n",
       "      <td>37.945455</td>\n",
       "      <td>7.1325</td>\n",
       "      <td>994.354545</td>\n",
       "      <td>996.381818</td>\n",
       "      <td>63.536364</td>\n",
       "      <td>...</td>\n",
       "      <td>1</td>\n",
       "      <td>3</td>\n",
       "      <td>-9.283861</td>\n",
       "      <td>-14.001931</td>\n",
       "      <td>NaN</td>\n",
       "      <td>NaN</td>\n",
       "      <td>NaN</td>\n",
       "      <td>NaN</td>\n",
       "      <td>NaN</td>\n",
       "      <td>NaN</td>\n",
       "    </tr>\n",
       "    <tr>\n",
       "      <th>1</th>\n",
       "      <td>2012-01-02</td>\n",
       "      <td>강원</td>\n",
       "      <td>0</td>\n",
       "      <td>0.0</td>\n",
       "      <td>3.36</td>\n",
       "      <td>63.400000</td>\n",
       "      <td>8.2950</td>\n",
       "      <td>996.618182</td>\n",
       "      <td>998.872727</td>\n",
       "      <td>68.172727</td>\n",
       "      <td>...</td>\n",
       "      <td>0</td>\n",
       "      <td>3</td>\n",
       "      <td>-11.461475</td>\n",
       "      <td>-14.487894</td>\n",
       "      <td>0.0191</td>\n",
       "      <td>NaN</td>\n",
       "      <td>NaN</td>\n",
       "      <td>63.822062</td>\n",
       "      <td>NaN</td>\n",
       "      <td>NaN</td>\n",
       "    </tr>\n",
       "    <tr>\n",
       "      <th>2</th>\n",
       "      <td>2012-01-03</td>\n",
       "      <td>강원</td>\n",
       "      <td>0</td>\n",
       "      <td>1.0</td>\n",
       "      <td>6.00</td>\n",
       "      <td>53.200000</td>\n",
       "      <td>7.8750</td>\n",
       "      <td>991.745455</td>\n",
       "      <td>995.218182</td>\n",
       "      <td>62.909091</td>\n",
       "      <td>...</td>\n",
       "      <td>0</td>\n",
       "      <td>3</td>\n",
       "      <td>-12.465123</td>\n",
       "      <td>-13.530813</td>\n",
       "      <td>0.0172</td>\n",
       "      <td>0.0191</td>\n",
       "      <td>NaN</td>\n",
       "      <td>68.328993</td>\n",
       "      <td>63.822062</td>\n",
       "      <td>NaN</td>\n",
       "    </tr>\n",
       "    <tr>\n",
       "      <th>3</th>\n",
       "      <td>2012-01-04</td>\n",
       "      <td>강원</td>\n",
       "      <td>0</td>\n",
       "      <td>2.0</td>\n",
       "      <td>2.28</td>\n",
       "      <td>75.454545</td>\n",
       "      <td>9.0775</td>\n",
       "      <td>994.490909</td>\n",
       "      <td>997.481818</td>\n",
       "      <td>54.363636</td>\n",
       "      <td>...</td>\n",
       "      <td>0</td>\n",
       "      <td>3</td>\n",
       "      <td>-13.652040</td>\n",
       "      <td>-14.065585</td>\n",
       "      <td>0.0182</td>\n",
       "      <td>0.0172</td>\n",
       "      <td>0.0191</td>\n",
       "      <td>77.407118</td>\n",
       "      <td>68.328993</td>\n",
       "      <td>63.822062</td>\n",
       "    </tr>\n",
       "    <tr>\n",
       "      <th>4</th>\n",
       "      <td>2012-01-05</td>\n",
       "      <td>강원</td>\n",
       "      <td>0</td>\n",
       "      <td>2.0</td>\n",
       "      <td>0.10</td>\n",
       "      <td>86.372727</td>\n",
       "      <td>10.9900</td>\n",
       "      <td>998.945454</td>\n",
       "      <td>1000.500000</td>\n",
       "      <td>52.245455</td>\n",
       "      <td>...</td>\n",
       "      <td>0</td>\n",
       "      <td>3</td>\n",
       "      <td>-15.842836</td>\n",
       "      <td>-14.085982</td>\n",
       "      <td>0.0247</td>\n",
       "      <td>0.0182</td>\n",
       "      <td>0.0172</td>\n",
       "      <td>64.408104</td>\n",
       "      <td>77.407118</td>\n",
       "      <td>68.328993</td>\n",
       "    </tr>\n",
       "    <tr>\n",
       "      <th>...</th>\n",
       "      <td>...</td>\n",
       "      <td>...</td>\n",
       "      <td>...</td>\n",
       "      <td>...</td>\n",
       "      <td>...</td>\n",
       "      <td>...</td>\n",
       "      <td>...</td>\n",
       "      <td>...</td>\n",
       "      <td>...</td>\n",
       "      <td>...</td>\n",
       "      <td>...</td>\n",
       "      <td>...</td>\n",
       "      <td>...</td>\n",
       "      <td>...</td>\n",
       "      <td>...</td>\n",
       "      <td>...</td>\n",
       "      <td>...</td>\n",
       "      <td>...</td>\n",
       "      <td>...</td>\n",
       "      <td>...</td>\n",
       "      <td>...</td>\n",
       "    </tr>\n",
       "    <tr>\n",
       "      <th>62113</th>\n",
       "      <td>2016-12-27</td>\n",
       "      <td>충북</td>\n",
       "      <td>1</td>\n",
       "      <td>NaN</td>\n",
       "      <td>NaN</td>\n",
       "      <td>46.475000</td>\n",
       "      <td>8.7800</td>\n",
       "      <td>997.200000</td>\n",
       "      <td>1003.100000</td>\n",
       "      <td>70.000000</td>\n",
       "      <td>...</td>\n",
       "      <td>0</td>\n",
       "      <td>2</td>\n",
       "      <td>-9.402804</td>\n",
       "      <td>-8.222991</td>\n",
       "      <td>0.0041</td>\n",
       "      <td>0.0045</td>\n",
       "      <td>0.0129</td>\n",
       "      <td>25.637324</td>\n",
       "      <td>42.329861</td>\n",
       "      <td>38.465278</td>\n",
       "    </tr>\n",
       "    <tr>\n",
       "      <th>62114</th>\n",
       "      <td>2016-12-28</td>\n",
       "      <td>충북</td>\n",
       "      <td>1</td>\n",
       "      <td>NaN</td>\n",
       "      <td>NaN</td>\n",
       "      <td>85.325000</td>\n",
       "      <td>11.3400</td>\n",
       "      <td>1004.700000</td>\n",
       "      <td>1007.325000</td>\n",
       "      <td>63.075000</td>\n",
       "      <td>...</td>\n",
       "      <td>0</td>\n",
       "      <td>2</td>\n",
       "      <td>-11.606380</td>\n",
       "      <td>-5.840993</td>\n",
       "      <td>0.0156</td>\n",
       "      <td>0.0041</td>\n",
       "      <td>0.0045</td>\n",
       "      <td>23.055749</td>\n",
       "      <td>25.637324</td>\n",
       "      <td>42.329861</td>\n",
       "    </tr>\n",
       "    <tr>\n",
       "      <th>62115</th>\n",
       "      <td>2016-12-29</td>\n",
       "      <td>충북</td>\n",
       "      <td>1</td>\n",
       "      <td>NaN</td>\n",
       "      <td>NaN</td>\n",
       "      <td>75.750000</td>\n",
       "      <td>10.6700</td>\n",
       "      <td>1004.600000</td>\n",
       "      <td>1008.050000</td>\n",
       "      <td>56.425000</td>\n",
       "      <td>...</td>\n",
       "      <td>0</td>\n",
       "      <td>2</td>\n",
       "      <td>-11.108954</td>\n",
       "      <td>-4.071665</td>\n",
       "      <td>0.0073</td>\n",
       "      <td>0.0156</td>\n",
       "      <td>0.0041</td>\n",
       "      <td>28.089362</td>\n",
       "      <td>23.055749</td>\n",
       "      <td>25.637324</td>\n",
       "    </tr>\n",
       "    <tr>\n",
       "      <th>62116</th>\n",
       "      <td>2016-12-30</td>\n",
       "      <td>충북</td>\n",
       "      <td>1</td>\n",
       "      <td>NaN</td>\n",
       "      <td>NaN</td>\n",
       "      <td>80.625000</td>\n",
       "      <td>10.9700</td>\n",
       "      <td>1007.725000</td>\n",
       "      <td>1010.175000</td>\n",
       "      <td>65.375000</td>\n",
       "      <td>...</td>\n",
       "      <td>0</td>\n",
       "      <td>2</td>\n",
       "      <td>-13.200697</td>\n",
       "      <td>-1.946108</td>\n",
       "      <td>0.0121</td>\n",
       "      <td>0.0073</td>\n",
       "      <td>0.0156</td>\n",
       "      <td>20.111111</td>\n",
       "      <td>28.089362</td>\n",
       "      <td>23.055749</td>\n",
       "    </tr>\n",
       "    <tr>\n",
       "      <th>62117</th>\n",
       "      <td>2016-12-31</td>\n",
       "      <td>충북</td>\n",
       "      <td>1</td>\n",
       "      <td>NaN</td>\n",
       "      <td>NaN</td>\n",
       "      <td>17.500000</td>\n",
       "      <td>4.0900</td>\n",
       "      <td>1005.525000</td>\n",
       "      <td>1007.000000</td>\n",
       "      <td>80.475000</td>\n",
       "      <td>...</td>\n",
       "      <td>0</td>\n",
       "      <td>2</td>\n",
       "      <td>-7.158823</td>\n",
       "      <td>-1.547846</td>\n",
       "      <td>0.0090</td>\n",
       "      <td>0.0121</td>\n",
       "      <td>0.0073</td>\n",
       "      <td>20.855932</td>\n",
       "      <td>20.111111</td>\n",
       "      <td>28.089362</td>\n",
       "    </tr>\n",
       "  </tbody>\n",
       "</table>\n",
       "<p>62118 rows × 44 columns</p>\n",
       "</div>"
      ],
      "text/plain": [
       "             date area  sex  frequency  ob_avg_tca  ob_ssrate  ob_sum_gsr  \\\n",
       "0      2012-01-01   강원    0        2.0        6.48  37.945455      7.1325   \n",
       "1      2012-01-02   강원    0        0.0        3.36  63.400000      8.2950   \n",
       "2      2012-01-03   강원    0        1.0        6.00  53.200000      7.8750   \n",
       "3      2012-01-04   강원    0        2.0        2.28  75.454545      9.0775   \n",
       "4      2012-01-05   강원    0        2.0        0.10  86.372727     10.9900   \n",
       "...           ...  ...  ...        ...         ...        ...         ...   \n",
       "62113  2016-12-27   충북    1        NaN         NaN  46.475000      8.7800   \n",
       "62114  2016-12-28   충북    1        NaN         NaN  85.325000     11.3400   \n",
       "62115  2016-12-29   충북    1        NaN         NaN  75.750000     10.6700   \n",
       "62116  2016-12-30   충북    1        NaN         NaN  80.625000     10.9700   \n",
       "62117  2016-12-31   충북    1        NaN         NaN  17.500000      4.0900   \n",
       "\n",
       "         ob_avg_pa    ob_max_pa  ob_avg_rhm  ...  holiday  area_group  \\\n",
       "0       994.354545   996.381818   63.536364  ...        1           3   \n",
       "1       996.618182   998.872727   68.172727  ...        0           3   \n",
       "2       991.745455   995.218182   62.909091  ...        0           3   \n",
       "3       994.490909   997.481818   54.363636  ...        0           3   \n",
       "4       998.945454  1000.500000   52.245455  ...        0           3   \n",
       "...            ...          ...         ...  ...      ...         ...   \n",
       "62113   997.200000  1003.100000   70.000000  ...        0           2   \n",
       "62114  1004.700000  1007.325000   63.075000  ...        0           2   \n",
       "62115  1004.600000  1008.050000   56.425000  ...        0           2   \n",
       "62116  1007.725000  1010.175000   65.375000  ...        0           2   \n",
       "62117  1005.525000  1007.000000   80.475000  ...        0           2   \n",
       "\n",
       "          체감온도_d   체감온도_d+1  ob_O3_d-1  ob_O3_d-2  ob_O3_d-3  ob_pm10_d-1  \\\n",
       "0      -9.283861 -14.001931        NaN        NaN        NaN          NaN   \n",
       "1     -11.461475 -14.487894     0.0191        NaN        NaN    63.822062   \n",
       "2     -12.465123 -13.530813     0.0172     0.0191        NaN    68.328993   \n",
       "3     -13.652040 -14.065585     0.0182     0.0172     0.0191    77.407118   \n",
       "4     -15.842836 -14.085982     0.0247     0.0182     0.0172    64.408104   \n",
       "...          ...        ...        ...        ...        ...          ...   \n",
       "62113  -9.402804  -8.222991     0.0041     0.0045     0.0129    25.637324   \n",
       "62114 -11.606380  -5.840993     0.0156     0.0041     0.0045    23.055749   \n",
       "62115 -11.108954  -4.071665     0.0073     0.0156     0.0041    28.089362   \n",
       "62116 -13.200697  -1.946108     0.0121     0.0073     0.0156    20.111111   \n",
       "62117  -7.158823  -1.547846     0.0090     0.0121     0.0073    20.855932   \n",
       "\n",
       "       ob_pm10_d-2  ob_pm10_d-3  \n",
       "0              NaN          NaN  \n",
       "1              NaN          NaN  \n",
       "2        63.822062          NaN  \n",
       "3        68.328993    63.822062  \n",
       "4        77.407118    68.328993  \n",
       "...            ...          ...  \n",
       "62113    42.329861    38.465278  \n",
       "62114    25.637324    42.329861  \n",
       "62115    23.055749    25.637324  \n",
       "62116    28.089362    23.055749  \n",
       "62117    20.111111    28.089362  \n",
       "\n",
       "[62118 rows x 44 columns]"
      ]
     },
     "execution_count": 137,
     "metadata": {},
     "output_type": "execute_result"
    }
   ],
   "source": [
    "# d-1, d-2, d-3에 대한 O3, pm10\n",
    "tmp = all_data.sort_values(by = ['area', 'sex'])\n",
    "area_lst = all_data['area'].unique()\n",
    "sex_lst = all_data['sex'].unique()\n",
    "\n",
    "stack_df = pd.DataFrame()\n",
    "for area in area_lst : \n",
    "    for sex in sex_lst : \n",
    "        tmp_df = tmp[(tmp['area'] == area) & (tmp['sex'] == sex)]\n",
    "        tmp_df['ob_O3_d-1'] = tmp_df['ob_O3'].shift(1) \n",
    "        tmp_df['ob_O3_d-2'] = tmp_df['ob_O3'].shift(2) \n",
    "        tmp_df['ob_O3_d-3'] = tmp_df['ob_O3'].shift(3)\n",
    "\n",
    "        tmp_df['ob_pm10_d-1'] = tmp_df['ob_pm10'].shift(1) \n",
    "        tmp_df['ob_pm10_d-2'] = tmp_df['ob_pm10'].shift(2) \n",
    "        tmp_df['ob_pm10_d-3'] = tmp_df['ob_pm10'].shift(3) \n",
    "        stack_df = pd.concat([stack_df, tmp_df], axis = 0)\n",
    "all_data = stack_df\n",
    "all_data = all_data.reset_index(drop = True)\n",
    "all_data"
   ]
  },
  {
   "cell_type": "code",
   "execution_count": 138,
   "metadata": {
    "ExecuteTime": {
     "end_time": "2022-08-06T06:41:22.417552Z",
     "start_time": "2022-08-06T06:41:22.404219Z"
    }
   },
   "outputs": [
    {
     "data": {
      "text/plain": [
       "Index(['date', 'area', 'sex', 'frequency', 'ob_avg_tca', 'ob_ssrate',\n",
       "       'ob_sum_gsr', 'ob_avg_pa', 'ob_max_pa', 'ob_avg_rhm', 'ob_min_rhm',\n",
       "       'ob_sum_rn', 'ob_avg_ta', 'ob_max_ta', 'ob_min_ta', 'ob_min_vs',\n",
       "       'ob_avg_ws', 'ob_max_ws', '습도', '최고기온', '최저기온', 'ob_O3', 'ob_pm10',\n",
       "       'year', '65세이상인구', '전체인구', 'income', 'month', 'day', 'weekday',\n",
       "       'weekend', '일교차_d', '일교차_d+1', 'last_day', 'holiday', 'area_group',\n",
       "       '체감온도_d', '체감온도_d+1', 'ob_O3_d-1', 'ob_O3_d-2', 'ob_O3_d-3',\n",
       "       'ob_pm10_d-1', 'ob_pm10_d-2', 'ob_pm10_d-3'],\n",
       "      dtype='object')"
      ]
     },
     "execution_count": 138,
     "metadata": {},
     "output_type": "execute_result"
    }
   ],
   "source": [
    "all_data.columns"
   ]
  },
  {
   "cell_type": "markdown",
   "metadata": {},
   "source": [
    "## train/test split"
   ]
  },
  {
   "cell_type": "code",
   "execution_count": 139,
   "metadata": {
    "ExecuteTime": {
     "end_time": "2022-08-06T06:41:22.493264Z",
     "start_time": "2022-08-06T06:41:22.418550Z"
    }
   },
   "outputs": [],
   "source": [
    "train = all_data[~((all_data['year'] == 2016) | (all_data['date'] == '2015-12-31'))] \n",
    "test = all_data[((all_data['year'] == 2016) | (all_data['date'] == '2015-12-31')) &\\\n",
    "                (all_data['date'] != '2016-12-31')]\n",
    "test.drop('frequency', axis = 1, inplace = True)"
   ]
  },
  {
   "cell_type": "code",
   "execution_count": 140,
   "metadata": {
    "ExecuteTime": {
     "end_time": "2022-08-06T06:41:22.614037Z",
     "start_time": "2022-08-06T06:41:22.495259Z"
    }
   },
   "outputs": [],
   "source": [
    "ratio_by_area = train[['area', '65세이상인구', 'frequency']]\n",
    "ratio_by_area['ratio'] = ratio_by_area['frequency'] / ratio_by_area['65세이상인구']\n",
    "ratio_by_area = ratio_by_area.groupby('area')['ratio'].median().to_frame()\n",
    "ratio_by_area['rank'] = ratio_by_area['ratio'].rank(ascending = False)\n",
    "area_rank = ratio_by_area['rank'].to_dict()\n",
    "\n",
    "# area_rank 변수 생성\n",
    "train['area_rank'] = train['area'].map(area_rank)\n",
    "train.drop(['date', '65세이상인구'], axis = 1, inplace = True)\n"
   ]
  },
  {
   "cell_type": "code",
   "execution_count": 141,
   "metadata": {
    "ExecuteTime": {
     "end_time": "2022-08-06T06:41:22.659535Z",
     "start_time": "2022-08-06T06:41:22.616563Z"
    }
   },
   "outputs": [],
   "source": [
    "test['area_rank'] = test['area'].map(area_rank) "
   ]
  },
  {
   "cell_type": "code",
   "execution_count": 142,
   "metadata": {
    "ExecuteTime": {
     "end_time": "2022-08-06T06:41:22.931262Z",
     "start_time": "2022-08-06T06:41:22.661530Z"
    }
   },
   "outputs": [
    {
     "data": {
      "text/html": [
       "<div>\n",
       "<style scoped>\n",
       "    .dataframe tbody tr th:only-of-type {\n",
       "        vertical-align: middle;\n",
       "    }\n",
       "\n",
       "    .dataframe tbody tr th {\n",
       "        vertical-align: top;\n",
       "    }\n",
       "\n",
       "    .dataframe thead th {\n",
       "        text-align: right;\n",
       "    }\n",
       "</style>\n",
       "<table border=\"1\" class=\"dataframe\">\n",
       "  <thead>\n",
       "    <tr style=\"text-align: right;\">\n",
       "      <th></th>\n",
       "      <th>sex</th>\n",
       "      <th>ob_avg_tca</th>\n",
       "      <th>ob_ssrate</th>\n",
       "      <th>ob_sum_gsr</th>\n",
       "      <th>ob_avg_pa</th>\n",
       "      <th>ob_max_pa</th>\n",
       "      <th>ob_avg_rhm</th>\n",
       "      <th>ob_min_rhm</th>\n",
       "      <th>ob_sum_rn</th>\n",
       "      <th>ob_avg_ta</th>\n",
       "      <th>...</th>\n",
       "      <th>area_group</th>\n",
       "      <th>체감온도_d</th>\n",
       "      <th>체감온도_d+1</th>\n",
       "      <th>ob_O3_d-1</th>\n",
       "      <th>ob_O3_d-2</th>\n",
       "      <th>ob_O3_d-3</th>\n",
       "      <th>ob_pm10_d-1</th>\n",
       "      <th>ob_pm10_d-2</th>\n",
       "      <th>ob_pm10_d-3</th>\n",
       "      <th>area_rank</th>\n",
       "    </tr>\n",
       "  </thead>\n",
       "  <tbody>\n",
       "    <tr>\n",
       "      <th>0</th>\n",
       "      <td>1</td>\n",
       "      <td>5.500000</td>\n",
       "      <td>35.490909</td>\n",
       "      <td>6.1475</td>\n",
       "      <td>1001.181818</td>\n",
       "      <td>1003.881818</td>\n",
       "      <td>77.036364</td>\n",
       "      <td>52.727273</td>\n",
       "      <td>0.00</td>\n",
       "      <td>0.972727</td>\n",
       "      <td>...</td>\n",
       "      <td>3</td>\n",
       "      <td>-4.135226</td>\n",
       "      <td>-2.340756</td>\n",
       "      <td>0.0162</td>\n",
       "      <td>0.0192</td>\n",
       "      <td>0.0218</td>\n",
       "      <td>42.526910</td>\n",
       "      <td>28.710453</td>\n",
       "      <td>21.559090</td>\n",
       "      <td>5.0</td>\n",
       "    </tr>\n",
       "    <tr>\n",
       "      <th>1</th>\n",
       "      <td>1</td>\n",
       "      <td>4.400000</td>\n",
       "      <td>43.120000</td>\n",
       "      <td>5.5200</td>\n",
       "      <td>1023.975000</td>\n",
       "      <td>1026.220000</td>\n",
       "      <td>81.020000</td>\n",
       "      <td>56.200000</td>\n",
       "      <td>0.00</td>\n",
       "      <td>0.660000</td>\n",
       "      <td>...</td>\n",
       "      <td>0</td>\n",
       "      <td>-4.521711</td>\n",
       "      <td>1.739970</td>\n",
       "      <td>0.0059</td>\n",
       "      <td>0.0055</td>\n",
       "      <td>0.0122</td>\n",
       "      <td>47.736111</td>\n",
       "      <td>52.788194</td>\n",
       "      <td>27.444444</td>\n",
       "      <td>7.0</td>\n",
       "    </tr>\n",
       "    <tr>\n",
       "      <th>2</th>\n",
       "      <td>1</td>\n",
       "      <td>2.100000</td>\n",
       "      <td>78.336364</td>\n",
       "      <td>9.3400</td>\n",
       "      <td>1022.245455</td>\n",
       "      <td>1025.772727</td>\n",
       "      <td>61.618182</td>\n",
       "      <td>34.181818</td>\n",
       "      <td>0.35</td>\n",
       "      <td>2.963636</td>\n",
       "      <td>...</td>\n",
       "      <td>3</td>\n",
       "      <td>-3.270899</td>\n",
       "      <td>0.375628</td>\n",
       "      <td>0.0111</td>\n",
       "      <td>0.0176</td>\n",
       "      <td>0.0225</td>\n",
       "      <td>33.302083</td>\n",
       "      <td>27.055556</td>\n",
       "      <td>18.996491</td>\n",
       "      <td>2.0</td>\n",
       "    </tr>\n",
       "    <tr>\n",
       "      <th>3</th>\n",
       "      <td>1</td>\n",
       "      <td>5.233333</td>\n",
       "      <td>46.800000</td>\n",
       "      <td>7.6700</td>\n",
       "      <td>1014.000000</td>\n",
       "      <td>1017.866667</td>\n",
       "      <td>69.566667</td>\n",
       "      <td>45.166667</td>\n",
       "      <td>2.78</td>\n",
       "      <td>1.425000</td>\n",
       "      <td>...</td>\n",
       "      <td>3</td>\n",
       "      <td>-4.504835</td>\n",
       "      <td>-4.172590</td>\n",
       "      <td>0.0163</td>\n",
       "      <td>0.0224</td>\n",
       "      <td>0.0282</td>\n",
       "      <td>30.544374</td>\n",
       "      <td>20.535685</td>\n",
       "      <td>17.559399</td>\n",
       "      <td>4.0</td>\n",
       "    </tr>\n",
       "    <tr>\n",
       "      <th>4</th>\n",
       "      <td>1</td>\n",
       "      <td>5.400000</td>\n",
       "      <td>61.200000</td>\n",
       "      <td>9.0500</td>\n",
       "      <td>1022.200000</td>\n",
       "      <td>1025.200000</td>\n",
       "      <td>76.600000</td>\n",
       "      <td>47.000000</td>\n",
       "      <td>2.50</td>\n",
       "      <td>3.800000</td>\n",
       "      <td>...</td>\n",
       "      <td>1</td>\n",
       "      <td>0.545855</td>\n",
       "      <td>1.656183</td>\n",
       "      <td>0.0091</td>\n",
       "      <td>0.0120</td>\n",
       "      <td>0.0187</td>\n",
       "      <td>54.086806</td>\n",
       "      <td>37.416667</td>\n",
       "      <td>21.815972</td>\n",
       "      <td>1.0</td>\n",
       "    </tr>\n",
       "  </tbody>\n",
       "</table>\n",
       "<p>5 rows × 40 columns</p>\n",
       "</div>"
      ],
      "text/plain": [
       "   sex  ob_avg_tca  ob_ssrate  ob_sum_gsr    ob_avg_pa    ob_max_pa  \\\n",
       "0    1    5.500000  35.490909      6.1475  1001.181818  1003.881818   \n",
       "1    1    4.400000  43.120000      5.5200  1023.975000  1026.220000   \n",
       "2    1    2.100000  78.336364      9.3400  1022.245455  1025.772727   \n",
       "3    1    5.233333  46.800000      7.6700  1014.000000  1017.866667   \n",
       "4    1    5.400000  61.200000      9.0500  1022.200000  1025.200000   \n",
       "\n",
       "   ob_avg_rhm  ob_min_rhm  ob_sum_rn  ob_avg_ta  ...  area_group    체감온도_d  \\\n",
       "0   77.036364   52.727273       0.00   0.972727  ...           3 -4.135226   \n",
       "1   81.020000   56.200000       0.00   0.660000  ...           0 -4.521711   \n",
       "2   61.618182   34.181818       0.35   2.963636  ...           3 -3.270899   \n",
       "3   69.566667   45.166667       2.78   1.425000  ...           3 -4.504835   \n",
       "4   76.600000   47.000000       2.50   3.800000  ...           1  0.545855   \n",
       "\n",
       "   체감온도_d+1  ob_O3_d-1  ob_O3_d-2  ob_O3_d-3  ob_pm10_d-1  ob_pm10_d-2  \\\n",
       "0 -2.340756     0.0162     0.0192     0.0218    42.526910    28.710453   \n",
       "1  1.739970     0.0059     0.0055     0.0122    47.736111    52.788194   \n",
       "2  0.375628     0.0111     0.0176     0.0225    33.302083    27.055556   \n",
       "3 -4.172590     0.0163     0.0224     0.0282    30.544374    20.535685   \n",
       "4  1.656183     0.0091     0.0120     0.0187    54.086806    37.416667   \n",
       "\n",
       "   ob_pm10_d-3  area_rank  \n",
       "0    21.559090        5.0  \n",
       "1    27.444444        7.0  \n",
       "2    18.996491        2.0  \n",
       "3    17.559399        4.0  \n",
       "4    21.815972        1.0  \n",
       "\n",
       "[5 rows x 40 columns]"
      ]
     },
     "execution_count": 142,
     "metadata": {},
     "output_type": "execute_result"
    }
   ],
   "source": [
    "test_copy = test.copy()\n",
    "test_copy['date'] = [datetime.strptime(s, '%Y-%m-%d').date() + timedelta(1) for s in test_copy['date']]\n",
    "test_copy['date'] = [datetime.strftime(s, '%Y-%m-%d') for s in test_copy['date']]\n",
    "test_copy['sex'] = [s + 1 for s in test_copy['sex']]\n",
    "test_copy\n",
    "sub = submission.copy()\n",
    "sub = pd.merge(sub, test_copy, left_on = ['yyyymmdd', 'area', 'sex'], \n",
    "               right_on = ['date', 'area', 'sex'], how = 'left')\n",
    "sub.drop(['yyyymmdd'], axis = 1, inplace = True)\n",
    "test = sub.copy()\n",
    "test.drop(['area', 'date', '65세이상인구', '전체인구', 'frequency'], axis = 1, inplace = True)\n",
    "test.head()"
   ]
  },
  {
   "cell_type": "code",
   "execution_count": 143,
   "metadata": {
    "ExecuteTime": {
     "end_time": "2022-08-06T06:41:22.991440Z",
     "start_time": "2022-08-06T06:41:22.933258Z"
    }
   },
   "outputs": [],
   "source": [
    "train.drop(['weekday'], axis = 1, inplace = True)\n",
    "test.drop(['weekday'], axis = 1, inplace = True)"
   ]
  },
  {
   "cell_type": "code",
   "execution_count": 144,
   "metadata": {
    "ExecuteTime": {
     "end_time": "2022-08-06T06:41:23.006477Z",
     "start_time": "2022-08-06T06:41:22.994674Z"
    }
   },
   "outputs": [
    {
     "data": {
      "text/plain": [
       "(49640, 42)"
      ]
     },
     "execution_count": 144,
     "metadata": {},
     "output_type": "execute_result"
    }
   ],
   "source": [
    "train.shape"
   ]
  },
  {
   "cell_type": "code",
   "execution_count": 145,
   "metadata": {
    "ExecuteTime": {
     "end_time": "2022-08-06T06:41:23.021259Z",
     "start_time": "2022-08-06T06:41:23.009315Z"
    }
   },
   "outputs": [
    {
     "data": {
      "text/plain": [
       "(12444, 39)"
      ]
     },
     "execution_count": 145,
     "metadata": {},
     "output_type": "execute_result"
    }
   ],
   "source": [
    "test.shape"
   ]
  },
  {
   "cell_type": "code",
   "execution_count": 146,
   "metadata": {
    "ExecuteTime": {
     "end_time": "2022-08-06T06:41:23.036423Z",
     "start_time": "2022-08-06T06:41:23.023220Z"
    }
   },
   "outputs": [
    {
     "data": {
      "text/plain": [
       "{'area', 'frequency', '전체인구'}"
      ]
     },
     "execution_count": 146,
     "metadata": {},
     "output_type": "execute_result"
    }
   ],
   "source": [
    "set(train.columns) - set(test.columns)"
   ]
  },
  {
   "cell_type": "code",
   "execution_count": 147,
   "metadata": {
    "ExecuteTime": {
     "end_time": "2022-08-06T06:42:26.294034Z",
     "start_time": "2022-08-06T06:41:23.040710Z"
    },
    "scrolled": true
   },
   "outputs": [],
   "source": [
    "from sklearn.impute import KNNImputer \n",
    "imputer = KNNImputer(n_neighbors = 5)\n",
    "train_imputed = imputer.fit_transform(train.drop(['area', 'frequency', '전체인구'], axis = 1))\n",
    "test_imputed = imputer.transform(test)"
   ]
  },
  {
   "cell_type": "code",
   "execution_count": 148,
   "metadata": {
    "ExecuteTime": {
     "end_time": "2022-08-06T06:42:26.323349Z",
     "start_time": "2022-08-06T06:42:26.305653Z"
    },
    "scrolled": true
   },
   "outputs": [],
   "source": [
    "train_imputed = pd.DataFrame(train_imputed, columns = test.columns)\n",
    "test_imputed = pd.DataFrame(test_imputed, columns = test.columns)"
   ]
  },
  {
   "cell_type": "code",
   "execution_count": 149,
   "metadata": {
    "ExecuteTime": {
     "end_time": "2022-08-06T06:42:26.353394Z",
     "start_time": "2022-08-06T06:42:26.326401Z"
    }
   },
   "outputs": [
    {
     "name": "stdout",
     "output_type": "stream",
     "text": [
      "0\n",
      "0\n"
     ]
    }
   ],
   "source": [
    "print(train_imputed.isnull().sum().sum())\n",
    "print(test_imputed.isnull().sum().sum())"
   ]
  },
  {
   "cell_type": "code",
   "execution_count": 150,
   "metadata": {
    "ExecuteTime": {
     "end_time": "2022-08-06T06:42:26.413654Z",
     "start_time": "2022-08-06T06:42:26.355388Z"
    }
   },
   "outputs": [],
   "source": [
    "train_imputed['area'] = train.reset_index()['area']\n",
    "train_imputed['frequency'] = train.reset_index()['frequency']\n",
    "train_imputed['전체인구'] = train.reset_index()['전체인구']"
   ]
  },
  {
   "cell_type": "code",
   "execution_count": 151,
   "metadata": {
    "ExecuteTime": {
     "end_time": "2022-08-06T06:42:26.458613Z",
     "start_time": "2022-08-06T06:42:26.416105Z"
    }
   },
   "outputs": [],
   "source": [
    "train_imputed.drop(['day'], axis = 1, inplace = True)\n",
    "test_imputed.drop(['day'], axis = 1, inplace = True)"
   ]
  },
  {
   "cell_type": "markdown",
   "metadata": {},
   "source": [
    "# model"
   ]
  },
  {
   "cell_type": "markdown",
   "metadata": {},
   "source": [
    "## 평가지표 정의"
   ]
  },
  {
   "cell_type": "code",
   "execution_count": 152,
   "metadata": {
    "ExecuteTime": {
     "end_time": "2022-08-06T06:42:26.488546Z",
     "start_time": "2022-08-06T06:42:26.473572Z"
    }
   },
   "outputs": [],
   "source": [
    "# 평가지표 생성\n",
    "def RMSE(a, b) : \n",
    "    return np.sqrt(((a - b)**2).mean())"
   ]
  },
  {
   "cell_type": "markdown",
   "metadata": {},
   "source": [
    "## train/valid split"
   ]
  },
  {
   "cell_type": "code",
   "execution_count": 153,
   "metadata": {
    "ExecuteTime": {
     "end_time": "2022-08-06T06:42:26.550501Z",
     "start_time": "2022-08-06T06:42:26.491538Z"
    }
   },
   "outputs": [],
   "source": [
    "from sklearn.model_selection import train_test_split\n",
    "\n",
    "X_train, X_valid = train_test_split(train_imputed, test_size = 0.2, random_state = 1234)"
   ]
  },
  {
   "cell_type": "markdown",
   "metadata": {},
   "source": [
    "## target을 총인구 100만명당 발병 비율로 변환"
   ]
  },
  {
   "cell_type": "code",
   "execution_count": 154,
   "metadata": {
    "ExecuteTime": {
     "end_time": "2022-08-06T06:42:26.762428Z",
     "start_time": "2022-08-06T06:42:26.554491Z"
    }
   },
   "outputs": [],
   "source": [
    "X_train['frequency'] = X_train['frequency'] / X_train['전체인구']*1000000\n",
    "X_train_pop = X_train['전체인구'].reset_index()['전체인구']\n",
    "X_train.drop('전체인구', axis = 1, inplace = True)\n",
    "\n",
    "X_valid['frequency'] = X_valid['frequency'] / X_valid['전체인구']*1000000\n",
    "X_valid_pop = X_valid['전체인구'].reset_index()['전체인구']\n",
    "X_valid.drop('전체인구', axis = 1, inplace = True)"
   ]
  },
  {
   "cell_type": "code",
   "execution_count": 155,
   "metadata": {
    "ExecuteTime": {
     "end_time": "2022-08-06T06:42:27.592238Z",
     "start_time": "2022-08-06T06:42:26.764392Z"
    },
    "scrolled": true
   },
   "outputs": [
    {
     "data": {
      "text/plain": [
       "<AxesSubplot:xlabel='frequency', ylabel='Count'>"
      ]
     },
     "execution_count": 155,
     "metadata": {},
     "output_type": "execute_result"
    },
    {
     "data": {
      "image/png": "[encoded data removed]",
      "text/plain": [
       "<Figure size 432x288 with 1 Axes>"
      ]
     },
     "metadata": {
      "needs_background": "light"
     },
     "output_type": "display_data"
    }
   ],
   "source": [
    "sns.histplot(x = 'frequency', data = X_train)"
   ]
  },
  {
   "cell_type": "markdown",
   "metadata": {},
   "source": [
    "## 지역별 상위 1%에 해당하는 frequency는 outlier로 정의하고 제거"
   ]
  },
  {
   "cell_type": "code",
   "execution_count": 156,
   "metadata": {
    "ExecuteTime": {
     "end_time": "2022-08-06T06:42:28.243999Z",
     "start_time": "2022-08-06T06:42:27.595234Z"
    },
    "scrolled": true
   },
   "outputs": [
    {
     "data": {
      "text/plain": [
       "<AxesSubplot:xlabel='frequency', ylabel='Count'>"
      ]
     },
     "execution_count": 156,
     "metadata": {},
     "output_type": "execute_result"
    },
    {
     "data": {
      "image/png": "[encoded data removed]",
      "text/plain": [
       "<Figure size 432x288 with 1 Axes>"
      ]
     },
     "metadata": {
      "needs_background": "light"
     },
     "output_type": "display_data"
    }
   ],
   "source": [
    "# 상위 1%에 해당하는 frequency 제거\n",
    "outlier_dict = X_train.groupby('area')['frequency'].quantile(0.99).to_dict()\n",
    "X_train['outlier'] = [outlier_dict[s] for s in X_train['area']]\n",
    "X_train['outlier'] = (X_train['frequency'] <= X_train['outlier'])\n",
    "X_train = X_train[X_train['outlier'] == True]\n",
    "\n",
    "# area변수는 사용하지 않으므로 제거\n",
    "X_train.drop(['outlier', 'area'], axis = 1, inplace = True)\n",
    "X_valid.drop(['area'], axis = 1, inplace = True)\n",
    "sns.histplot(x = 'frequency', data = X_train)"
   ]
  },
  {
   "cell_type": "markdown",
   "metadata": {},
   "source": [
    "## 최종 학습 데이터에서 인구 100만명당 발병 비율이 상위 0.5%인 경우는 outlier로 정의하고 제거"
   ]
  },
  {
   "cell_type": "code",
   "execution_count": 157,
   "metadata": {
    "ExecuteTime": {
     "end_time": "2022-08-06T06:42:28.530903Z",
     "start_time": "2022-08-06T06:42:28.245938Z"
    }
   },
   "outputs": [
    {
     "data": {
      "text/plain": [
       "<AxesSubplot:xlabel='frequency', ylabel='Count'>"
      ]
     },
     "execution_count": 157,
     "metadata": {},
     "output_type": "execute_result"
    },
    {
     "data": {
      "image/png": "[encoded data removed]",
      "text/plain": [
       "<Figure size 432x288 with 1 Axes>"
      ]
     },
     "metadata": {
      "needs_background": "light"
     },
     "output_type": "display_data"
    }
   ],
   "source": [
    "top_1percent =  X_train['frequency'].quantile(0.995)\n",
    "X_train = X_train[X_train['frequency'] <= top_1percent]\n",
    "sns.histplot(x = 'frequency', data = X_train)"
   ]
  },
  {
   "cell_type": "code",
   "execution_count": 158,
   "metadata": {
    "ExecuteTime": {
     "end_time": "2022-08-06T06:42:28.546533Z",
     "start_time": "2022-08-06T06:42:28.532622Z"
    }
   },
   "outputs": [],
   "source": [
    "X_train, y_train = X_train.drop('frequency', axis = 1), X_train['frequency']\n",
    "X_valid, y_valid = X_valid.drop('frequency', axis = 1), X_valid['frequency']"
   ]
  },
  {
   "cell_type": "code",
   "execution_count": 159,
   "metadata": {
    "ExecuteTime": {
     "end_time": "2022-08-06T06:42:28.561832Z",
     "start_time": "2022-08-06T06:42:28.549609Z"
    }
   },
   "outputs": [
    {
     "data": {
      "text/plain": [
       "Index(['sex', 'ob_avg_tca', 'ob_ssrate', 'ob_sum_gsr', 'ob_avg_pa',\n",
       "       'ob_max_pa', 'ob_avg_rhm', 'ob_min_rhm', 'ob_sum_rn', 'ob_avg_ta',\n",
       "       'ob_max_ta', 'ob_min_ta', 'ob_min_vs', 'ob_avg_ws', 'ob_max_ws', '습도',\n",
       "       '최고기온', '최저기온', 'ob_O3', 'ob_pm10', 'year', 'income', 'month',\n",
       "       'weekend', '일교차_d', '일교차_d+1', 'last_day', 'holiday', 'area_group',\n",
       "       '체감온도_d', '체감온도_d+1', 'ob_O3_d-1', 'ob_O3_d-2', 'ob_O3_d-3',\n",
       "       'ob_pm10_d-1', 'ob_pm10_d-2', 'ob_pm10_d-3', 'area_rank'],\n",
       "      dtype='object')"
      ]
     },
     "execution_count": 159,
     "metadata": {},
     "output_type": "execute_result"
    }
   ],
   "source": [
    "X_train.columns"
   ]
  },
  {
   "cell_type": "code",
   "execution_count": 160,
   "metadata": {
    "ExecuteTime": {
     "end_time": "2022-08-06T06:47:25.760219Z",
     "start_time": "2022-08-06T06:42:28.563827Z"
    }
   },
   "outputs": [
    {
     "name": "stdout",
     "output_type": "stream",
     "text": [
      "[iter 0] loss=0.7712 val_loss=0.0000 scale=2.0000 norm=1.3764\n",
      "[iter 100] loss=0.6073 val_loss=0.0000 scale=2.0000 norm=1.2705\n",
      "[iter 200] loss=0.5557 val_loss=0.0000 scale=2.0000 norm=1.2838\n",
      "[iter 300] loss=0.5290 val_loss=0.0000 scale=2.0000 norm=1.2822\n",
      "[iter 400] loss=0.5144 val_loss=0.0000 scale=2.0000 norm=1.2762\n"
     ]
    }
   ],
   "source": [
    "from ngboost import NGBRegressor\n",
    "\n",
    "ngb_model = NGBRegressor(random_state = 220168)\n",
    "ngb_model.fit(X_train, y_train)\n",
    "y_valid_preds = ngb_model.predict(X_valid)"
   ]
  },
  {
   "cell_type": "code",
   "execution_count": 161,
   "metadata": {
    "ExecuteTime": {
     "end_time": "2022-08-06T06:47:25.775204Z",
     "start_time": "2022-08-06T06:47:25.762214Z"
    }
   },
   "outputs": [
    {
     "data": {
      "text/plain": [
       "1.2085418675627504"
      ]
     },
     "execution_count": 161,
     "metadata": {},
     "output_type": "execute_result"
    }
   ],
   "source": [
    "y_valid_ = y_valid.reset_index()['frequency']*X_valid_pop/1000000\n",
    "preds_ = y_valid_preds*X_valid_pop/1000000\n",
    "RMSE(y_valid_, preds_)"
   ]
  },
  {
   "cell_type": "markdown",
   "metadata": {},
   "source": [
    "1.2126421877635265"
   ]
  },
  {
   "cell_type": "code",
   "execution_count": 162,
   "metadata": {
    "ExecuteTime": {
     "end_time": "2022-08-06T06:47:26.426590Z",
     "start_time": "2022-08-06T06:47:25.778195Z"
    },
    "scrolled": true
   },
   "outputs": [
    {
     "data": {
      "text/plain": [
       "Text(0.5, 1.0, 'scale param')"
      ]
     },
     "execution_count": 162,
     "metadata": {},
     "output_type": "execute_result"
    },
    {
     "data": {
      "image/png": "[encoded data removed]",
      "text/plain": [
       "<Figure size 936x360 with 2 Axes>"
      ]
     },
     "metadata": {
      "needs_background": "light"
     },
     "output_type": "display_data"
    }
   ],
   "source": [
    "## Feature importance for loc trees\n",
    "feature_importance_loc = ngb_model.feature_importances_[0]\n",
    "\n",
    "## Feature importance for scale trees\n",
    "feature_importance_scale = ngb_model.feature_importances_[1]\n",
    "\n",
    "df_loc = pd.DataFrame({'feature':list(X_train),\n",
    "                       'importance':feature_importance_loc})\\\n",
    "    .sort_values('importance',ascending=False).iloc[:15]\n",
    "df_scale = pd.DataFrame({'feature':list(X_train),\n",
    "                       'importance':feature_importance_scale})\\\n",
    "    .sort_values('importance',ascending=False).iloc[:15]\n",
    "\n",
    "fig, (ax1, ax2) = plt.subplots(1, 2, figsize=(13,5))\n",
    "fig.suptitle(\"Feature importance plot for distribution parameters\", fontsize=17)\n",
    "sns.barplot(x='importance',y='feature',ax=ax1,data=df_loc, color=\"skyblue\").\\\n",
    "set_title('loc param')\n",
    "sns.barplot(x='importance',y='feature',ax=ax2,data=df_scale, color=\"skyblue\").\\\n",
    "set_title('scale param')"
   ]
  },
  {
   "cell_type": "code",
   "execution_count": 164,
   "metadata": {
    "ExecuteTime": {
     "end_time": "2022-08-06T06:47:46.976553Z",
     "start_time": "2022-08-06T06:47:46.219396Z"
    },
    "scrolled": true
   },
   "outputs": [
    {
     "data": {
      "image/png": "[encoded data removed]",
      "text/plain": [
       "<Figure size 1224x288 with 1 Axes>"
      ]
     },
     "metadata": {
      "needs_background": "light"
     },
     "output_type": "display_data"
    }
   ],
   "source": [
    "plt.figure(figsize = (17, 4))\n",
    "plt.plot(np.arange(len(y_valid_)), y_valid_, color = 'blue', label = 'real')\n",
    "plt.plot(np.arange(len(y_valid_)), preds_, color = 'red', label = 'pred')\n",
    "plt.legend()\n",
    "plt.show()"
   ]
  },
  {
   "cell_type": "markdown",
   "metadata": {},
   "source": [
    "### valid set에 대해서 검증 결과 확인"
   ]
  },
  {
   "cell_type": "code",
   "execution_count": 175,
   "metadata": {
    "ExecuteTime": {
     "end_time": "2022-08-06T06:50:24.052928Z",
     "start_time": "2022-08-06T06:50:23.259753Z"
    },
    "scrolled": false
   },
   "outputs": [
    {
     "data": {
      "image/png": "[encoded data removed]",
      "text/plain": [
       "<Figure size 1080x216 with 1 Axes>"
      ]
     },
     "metadata": {
      "needs_background": "light"
     },
     "output_type": "display_data"
    },
    {
     "data": {
      "image/png": "[encoded data removed]",
      "text/plain": [
       "<Figure size 1080x216 with 1 Axes>"
      ]
     },
     "metadata": {
      "needs_background": "light"
     },
     "output_type": "display_data"
    },
    {
     "data": {
      "image/png": "[encoded data removed]",
      "text/plain": [
       "<Figure size 1080x216 with 1 Axes>"
      ]
     },
     "metadata": {
      "needs_background": "light"
     },
     "output_type": "display_data"
    }
   ],
   "source": [
    "plt.figure(figsize = (15, 3))\n",
    "loc = 600\n",
    "plt.plot(np.arange(100), y_valid_[loc:loc+100], color = 'blue', label = 'real')\n",
    "plt.plot(np.arange(100), preds_[loc:loc+100], color = 'red', label = 'pred')\n",
    "plt.legend()\n",
    "plt.show()\n",
    "\n",
    "plt.figure(figsize = (15, 3))\n",
    "plt.plot(np.arange(100), y_valid_[loc+100:loc+200], color = 'blue', label = 'real')\n",
    "plt.plot(np.arange(100), preds_[loc+100:loc+200], color = 'red', label = 'pred')\n",
    "plt.legend()\n",
    "plt.show()\n",
    "\n",
    "\n",
    "plt.figure(figsize = (15, 3))\n",
    "plt.plot(np.arange(100), y_valid_[loc+200:loc+300], color = 'blue', label = 'real')\n",
    "plt.plot(np.arange(100), preds_[loc+200:loc+300], color = 'red', label = 'pred')\n",
    "plt.legend()\n",
    "plt.show()"
   ]
  },
  {
   "cell_type": "markdown",
   "metadata": {},
   "source": [
    "## Final model"
   ]
  },
  {
   "cell_type": "code",
   "execution_count": 166,
   "metadata": {
    "ExecuteTime": {
     "end_time": "2022-08-06T06:47:51.378954Z",
     "start_time": "2022-08-06T06:47:47.964484Z"
    },
    "scrolled": false
   },
   "outputs": [],
   "source": [
    "final_preds = ngb_model.predict(test_imputed)\n",
    "final_preds = np.maximum(0, final_preds)\n",
    "submission['frequency'] = final_preds"
   ]
  },
  {
   "cell_type": "markdown",
   "metadata": {},
   "source": [
    "### 인구수를 곱해서 frequency로 다시 변환"
   ]
  },
  {
   "cell_type": "code",
   "execution_count": 167,
   "metadata": {
    "ExecuteTime": {
     "end_time": "2022-08-06T06:47:51.409294Z",
     "start_time": "2022-08-06T06:47:51.380748Z"
    }
   },
   "outputs": [],
   "source": [
    "population = pd.read_csv('../dataset/used/2016_인구.csv', encoding = 'euc-kr')\n",
    "population.drop('65세이상인구', axis = 1, inplace = True)\n",
    "submission = pd.merge(submission, population, left_on = 'area', right_on = 'area', how = 'left')\n",
    "submission['frequency'] = submission['frequency']* submission['전체인구']/1000000\n",
    "submission.drop('전체인구', axis = 1, inplace = True)"
   ]
  },
  {
   "cell_type": "code",
   "execution_count": 168,
   "metadata": {
    "ExecuteTime": {
     "end_time": "2022-08-06T06:47:51.424402Z",
     "start_time": "2022-08-06T06:47:51.410284Z"
    }
   },
   "outputs": [
    {
     "name": "stdout",
     "output_type": "stream",
     "text": [
      "예측값 max :  7.552151422957249\n",
      "예측값 min :  0.01658350695592104\n"
     ]
    }
   ],
   "source": [
    "print('예측값 max : ', submission['frequency'].max())\n",
    "print('예측값 min : ', submission['frequency'].min())"
   ]
  },
  {
   "cell_type": "markdown",
   "metadata": {},
   "source": [
    "### 최종 예측 결과 csv로 저장"
   ]
  },
  {
   "cell_type": "code",
   "execution_count": 169,
   "metadata": {
    "ExecuteTime": {
     "end_time": "2022-08-06T06:47:51.454233Z",
     "start_time": "2022-08-06T06:47:51.426399Z"
    }
   },
   "outputs": [
    {
     "data": {
      "text/html": [
       "<div>\n",
       "<style scoped>\n",
       "    .dataframe tbody tr th:only-of-type {\n",
       "        vertical-align: middle;\n",
       "    }\n",
       "\n",
       "    .dataframe tbody tr th {\n",
       "        vertical-align: top;\n",
       "    }\n",
       "\n",
       "    .dataframe thead th {\n",
       "        text-align: right;\n",
       "    }\n",
       "</style>\n",
       "<table border=\"1\" class=\"dataframe\">\n",
       "  <thead>\n",
       "    <tr style=\"text-align: right;\">\n",
       "      <th></th>\n",
       "      <th>yyyymmdd</th>\n",
       "      <th>area</th>\n",
       "      <th>sex</th>\n",
       "      <th>frequency</th>\n",
       "    </tr>\n",
       "  </thead>\n",
       "  <tbody>\n",
       "    <tr>\n",
       "      <th>0</th>\n",
       "      <td>2016-01-01</td>\n",
       "      <td>강원</td>\n",
       "      <td>1</td>\n",
       "      <td>1.803554</td>\n",
       "    </tr>\n",
       "    <tr>\n",
       "      <th>1</th>\n",
       "      <td>2016-01-01</td>\n",
       "      <td>경기</td>\n",
       "      <td>1</td>\n",
       "      <td>6.095859</td>\n",
       "    </tr>\n",
       "    <tr>\n",
       "      <th>2</th>\n",
       "      <td>2016-01-01</td>\n",
       "      <td>경남</td>\n",
       "      <td>1</td>\n",
       "      <td>3.397016</td>\n",
       "    </tr>\n",
       "    <tr>\n",
       "      <th>3</th>\n",
       "      <td>2016-01-01</td>\n",
       "      <td>경북</td>\n",
       "      <td>1</td>\n",
       "      <td>3.140078</td>\n",
       "    </tr>\n",
       "    <tr>\n",
       "      <th>4</th>\n",
       "      <td>2016-01-01</td>\n",
       "      <td>광주</td>\n",
       "      <td>1</td>\n",
       "      <td>1.511721</td>\n",
       "    </tr>\n",
       "    <tr>\n",
       "      <th>...</th>\n",
       "      <td>...</td>\n",
       "      <td>...</td>\n",
       "      <td>...</td>\n",
       "      <td>...</td>\n",
       "    </tr>\n",
       "    <tr>\n",
       "      <th>12439</th>\n",
       "      <td>2016-12-31</td>\n",
       "      <td>전남</td>\n",
       "      <td>2</td>\n",
       "      <td>1.167238</td>\n",
       "    </tr>\n",
       "    <tr>\n",
       "      <th>12440</th>\n",
       "      <td>2016-12-31</td>\n",
       "      <td>전북</td>\n",
       "      <td>2</td>\n",
       "      <td>1.034140</td>\n",
       "    </tr>\n",
       "    <tr>\n",
       "      <th>12441</th>\n",
       "      <td>2016-12-31</td>\n",
       "      <td>제주</td>\n",
       "      <td>2</td>\n",
       "      <td>0.260320</td>\n",
       "    </tr>\n",
       "    <tr>\n",
       "      <th>12442</th>\n",
       "      <td>2016-12-31</td>\n",
       "      <td>충남</td>\n",
       "      <td>2</td>\n",
       "      <td>0.947993</td>\n",
       "    </tr>\n",
       "    <tr>\n",
       "      <th>12443</th>\n",
       "      <td>2016-12-31</td>\n",
       "      <td>충북</td>\n",
       "      <td>2</td>\n",
       "      <td>0.765828</td>\n",
       "    </tr>\n",
       "  </tbody>\n",
       "</table>\n",
       "<p>12444 rows × 4 columns</p>\n",
       "</div>"
      ],
      "text/plain": [
       "         yyyymmdd area  sex  frequency\n",
       "0      2016-01-01   강원    1   1.803554\n",
       "1      2016-01-01   경기    1   6.095859\n",
       "2      2016-01-01   경남    1   3.397016\n",
       "3      2016-01-01   경북    1   3.140078\n",
       "4      2016-01-01   광주    1   1.511721\n",
       "...           ...  ...  ...        ...\n",
       "12439  2016-12-31   전남    2   1.167238\n",
       "12440  2016-12-31   전북    2   1.034140\n",
       "12441  2016-12-31   제주    2   0.260320\n",
       "12442  2016-12-31   충남    2   0.947993\n",
       "12443  2016-12-31   충북    2   0.765828\n",
       "\n",
       "[12444 rows x 4 columns]"
      ]
     },
     "execution_count": 169,
     "metadata": {},
     "output_type": "execute_result"
    }
   ],
   "source": [
    "submission"
   ]
  },
  {
   "cell_type": "code",
   "execution_count": 170,
   "metadata": {
    "ExecuteTime": {
     "end_time": "2022-08-06T06:47:51.514387Z",
     "start_time": "2022-08-06T06:47:51.456146Z"
    }
   },
   "outputs": [],
   "source": [
    "submission.to_csv('220168.csv', index = False, encoding = 'euc-kr')"
   ]
  },
  {
   "cell_type": "code",
   "execution_count": 171,
   "metadata": {
    "ExecuteTime": {
     "end_time": "2022-08-06T06:47:51.745268Z",
     "start_time": "2022-08-06T06:47:51.516276Z"
    }
   },
   "outputs": [
    {
     "data": {
      "image/png": "[encoded data removed]",
      "text/plain": [
       "<Figure size 1152x360 with 1 Axes>"
      ]
     },
     "metadata": {
      "needs_background": "light"
     },
     "output_type": "display_data"
    }
   ],
   "source": [
    "plt.figure(figsize = (16, 5))\n",
    "plt.plot(submission[(submission['area'] == '경기') & (submission['sex'] == 1)]['frequency'],\n",
    "         color = 'green', label = '경기')\n",
    "plt.plot(submission[(submission['area'] == '서울') & (submission['sex'] == 1)]['frequency'],\n",
    "         color = 'orange', label = '서울')\n",
    "plt.legend()\n",
    "plt.show()"
   ]
  },
  {
   "cell_type": "code",
   "execution_count": 172,
   "metadata": {
    "ExecuteTime": {
     "end_time": "2022-08-06T06:47:51.987658Z",
     "start_time": "2022-08-06T06:47:51.746284Z"
    }
   },
   "outputs": [
    {
     "data": {
      "image/png": "[encoded data removed]",
      "text/plain": [
       "<Figure size 1152x360 with 1 Axes>"
      ]
     },
     "metadata": {
      "needs_background": "light"
     },
     "output_type": "display_data"
    }
   ],
   "source": [
    "plt.figure(figsize = (16, 5))\n",
    "plt.plot(submission[(submission['area'] == '경북') & (submission['sex'] == 1)]['frequency'],\n",
    "         color = 'green', label = '경북')\n",
    "plt.plot(submission[(submission['area'] == '경남') & (submission['sex'] == 1)]['frequency'],\n",
    "         color = 'orange', label = '경남')\n",
    "plt.legend()\n",
    "plt.show()"
   ]
  },
  {
   "cell_type": "code",
   "execution_count": null,
   "metadata": {},
   "outputs": [],
   "source": []
  }
 ],
 "metadata": {
  "hide_input": false,
  "kernelspec": {
   "display_name": "Python 3",
   "language": "python",
   "name": "python3"
  },
  "language_info": {
   "codemirror_mode": {
    "name": "ipython",
    "version": 3
   },
   "file_extension": ".py",
   "mimetype": "text/x-python",
   "name": "python",
   "nbconvert_exporter": "python",
   "pygments_lexer": "ipython3",
   "version": "3.8.5"
  },
  "toc": {
   "base_numbering": 1,
   "nav_menu": {},
   "number_sections": true,
   "sideBar": true,
   "skip_h1_title": false,
   "title_cell": "Table of Contents",
   "title_sidebar": "Contents",
   "toc_cell": false,
   "toc_position": {
    "height": "829px",
    "left": "79px",
    "top": "111.125px",
    "width": "323.75px"
   },
   "toc_section_display": true,
   "toc_window_display": true
  },
  "varInspector": {
   "cols": {
    "lenName": 16,
    "lenType": 16,
    "lenVar": 40
   },
   "kernels_config": {
    "python": {
     "delete_cmd_postfix": "",
     "delete_cmd_prefix": "del ",
     "library": "var_list.py",
     "varRefreshCmd": "print(var_dic_list())"
    },
    "r": {
     "delete_cmd_postfix": ") ",
     "delete_cmd_prefix": "rm(",
     "library": "var_list.r",
     "varRefreshCmd": "cat(var_dic_list()) "
    }
   },
   "types_to_exclude": [
    "module",
    "function",
    "builtin_function_or_method",
    "instance",
    "_Feature"
   ],
   "window_display": false
  }
 },
 "nbformat": 4,
 "nbformat_minor": 4
}
